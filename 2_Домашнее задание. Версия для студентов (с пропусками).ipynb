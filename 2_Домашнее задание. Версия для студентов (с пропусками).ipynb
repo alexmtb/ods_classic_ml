{
 "cells": [
  {
   "cell_type": "code",
   "execution_count": 1,
   "id": "c0e0f81f-a0b0-4961-b2f8-3a99d0260243",
   "metadata": {
    "id": "c0e0f81f-a0b0-4961-b2f8-3a99d0260243"
   },
   "outputs": [],
   "source": [
    "import warnings\n",
    "warnings.filterwarnings('ignore')"
   ]
  },
  {
   "cell_type": "code",
   "execution_count": 2,
   "id": "f839a106-5b51-4be4-a40d-13d918d9faa0",
   "metadata": {
    "id": "f839a106-5b51-4be4-a40d-13d918d9faa0"
   },
   "outputs": [],
   "source": [
    "import pandas as pd\n",
    "import numpy as np\n",
    "\n",
    "import seaborn as sns\n",
    "import matplotlib.pyplot as plt\n",
    "\n",
    "from sklearn.linear_model import LogisticRegression\n",
    "from sklearn.model_selection import train_test_split, GridSearchCV\n",
    "from sklearn.metrics import roc_auc_score, roc_curve, auc, make_scorer, \\\n",
    "    confusion_matrix, f1_score, precision_score, recall_score, accuracy_score, classification_report\n",
    "from sklearn.preprocessing import StandardScaler, OneHotEncoder\n",
    "\n",
    "RANDOM_STATE = 42"
   ]
  },
  {
   "cell_type": "markdown",
   "id": "2c0b8c46-f9ae-422e-b077-eafa5824fec1",
   "metadata": {
    "id": "2c0b8c46-f9ae-422e-b077-eafa5824fec1",
    "jp-MarkdownHeadingCollapsed": true
   },
   "source": [
    "### Задание 1\n",
    "\n",
    "На лекции вы познакомились с одним из методов оптимизации - методом градиентного спуска. В машинном обучении градиентный спуск используется для минимизации функции потерь при обучении моделей. Для лучшего понимания происходящего реализуем алгоритм руками.\n",
    "\n",
    "Пусть на отрезке $[-2; 2]$ задана функция $y=x^4 + sin(x)$. Для поиска минимума этой функции реализуйте простейший алгоритм градиентного спуска. Начальное приближение возьмите равным 1. Выбрав темп обучения равным 0.1, найдите экстремум функции. Далее рассчитайте оптимальный темп обучения (такой, при котором алгоритм после первого же шага должен найти минимум функции).\n",
    "\n",
    "Выберите все верные ответы из списка."
   ]
  },
  {
   "cell_type": "code",
   "execution_count": 25,
   "id": "2a46a7bd-817a-4586-9a31-39be0b09f4a3",
   "metadata": {
    "id": "2a46a7bd-817a-4586-9a31-39be0b09f4a3"
   },
   "outputs": [],
   "source": [
    "def f(x):\n",
    "    # ваш код здесь\n",
    "    y = x ** 4 + np.sin(x)\n",
    "\n",
    "    return y\n",
    "\n",
    "\n",
    "def gradient_f(x):\n",
    "    # ваш код здесь\n",
    "    grad = 4*x**3 + np.cos(x)\n",
    "    \n",
    "    return grad"
   ]
  },
  {
   "cell_type": "code",
   "execution_count": 40,
   "id": "be7086f2-e24e-452a-8f65-b5491b8ef195",
   "metadata": {
    "id": "be7086f2-e24e-452a-8f65-b5491b8ef195"
   },
   "outputs": [],
   "source": [
    "learning_rate = 0.3  # темп обучения\n",
    "iter = 1000  # базовое количество итераций\n",
    "\n",
    "x0 = 1  # начальное приближение"
   ]
  },
  {
   "cell_type": "code",
   "execution_count": 111,
   "id": "f7f3443a-c552-4fd6-9a12-2ba0a9f6d05e",
   "metadata": {
    "id": "f7f3443a-c552-4fd6-9a12-2ba0a9f6d05e"
   },
   "outputs": [
    {
     "name": "stdout",
     "output_type": "stream",
     "text": [
      "Итерация 1: x = 0.546, y = 0.608\n",
      "Итерация 2: x = 0.395, y = 0.410\n",
      "Итерация 3: x = 0.278, y = 0.281\n",
      "Итерация 4: x = 0.174, y = 0.174\n",
      "Итерация 5: x = 0.073, y = 0.073\n",
      "Итерация 6: x = -0.027, y = -0.027\n",
      "Итерация 7: x = -0.127, y = -0.126\n",
      "Итерация 8: x = -0.225, y = -0.221\n",
      "Итерация 9: x = -0.318, y = -0.303\n",
      "Итерация 10: x = -0.400, y = -0.364\n",
      "Оптимум x: -0.592, y: -0.435 \n"
     ]
    }
   ],
   "source": [
    "# ваш код здесь\n",
    "learning_rate = 0.1  # темп обучения\n",
    "iter = 1000  # базовое количество итераций\n",
    "x0 = 1  # начальное приближение\n",
    "for i in range(iter):\n",
    "    grad = gradient_f(x0)\n",
    "    x0 = x0 - learning_rate * grad\n",
    "    if i < 10:\n",
    "        print(f'Итерация {i+1}: x = {x0:.3f}, y = {f(x0):.3f}')\n",
    "x_, y_ = x0, f(x0)\n",
    "print(f'Оптимум x: {x0:.3f}, y: {f(x0):.3f} ')\n",
    "# Оптимум x: -0.5919847892393224, y: -0.4351967756964402 "
   ]
  },
  {
   "cell_type": "code",
   "execution_count": 109,
   "id": "cefd7a26-e69b-4c88-8bfe-eebddbdf5a6e",
   "metadata": {
    "id": "cefd7a26-e69b-4c88-8bfe-eebddbdf5a6e"
   },
   "outputs": [
    {
     "data": {
      "image/png": "[encoded data removed]",
      "text/plain": [
       "<Figure size 640x480 with 1 Axes>"
      ]
     },
     "metadata": {},
     "output_type": "display_data"
    }
   ],
   "source": [
    "x = np.linspace(-2, 2, num=50)\n",
    "y = f(x)\n",
    "\n",
    "plt.scatter(x, y, marker='.', linewidths=.1)\n",
    "plt.plot(x_, y_, marker = 'X', color = 'red')\n",
    "plt.xlabel('x')\n",
    "plt.ylabel('y')\n",
    "plt.show()"
   ]
  },
  {
   "cell_type": "markdown",
   "id": "22d2f158-d851-411d-99d7-cc3507b709ff",
   "metadata": {
    "id": "22d2f158-d851-411d-99d7-cc3507b709ff",
    "jp-MarkdownHeadingCollapsed": true
   },
   "source": [
    "### Задание 2\n",
    "\n",
    "Рассмотрим набор данных о заболевании раком. Здесь представлены два различных типа рака и необходимо отделить один от другого. Для этого разделите набор данных на тренировочную и тестовую выборки, постройте логистическую регрессию (здесь и далее в форме не масштабируем признаки для простоты) и выполните предсказания. Рассчитав коэффициенты модели, определите признак, который оказывает наиболее сильное влияние на наличие рака типа `'B'` у пациента. В качестве ответа сдайте название признака без кавычек."
   ]
  },
  {
   "cell_type": "code",
   "execution_count": 3,
   "id": "b07a782a-fa32-4dbd-8526-512dadcd000d",
   "metadata": {
    "id": "b07a782a-fa32-4dbd-8526-512dadcd000d"
   },
   "outputs": [
    {
     "data": {
      "text/html": [
       "<div>\n",
       "<style scoped>\n",
       "    .dataframe tbody tr th:only-of-type {\n",
       "        vertical-align: middle;\n",
       "    }\n",
       "\n",
       "    .dataframe tbody tr th {\n",
       "        vertical-align: top;\n",
       "    }\n",
       "\n",
       "    .dataframe thead th {\n",
       "        text-align: right;\n",
       "    }\n",
       "</style>\n",
       "<table border=\"1\" class=\"dataframe\">\n",
       "  <thead>\n",
       "    <tr style=\"text-align: right;\">\n",
       "      <th></th>\n",
       "      <th>diagnosis</th>\n",
       "      <th>radius_mean</th>\n",
       "      <th>texture_mean</th>\n",
       "      <th>perimeter_mean</th>\n",
       "      <th>area_mean</th>\n",
       "      <th>smoothness_mean</th>\n",
       "      <th>compactness_mean</th>\n",
       "      <th>concavity_mean</th>\n",
       "      <th>concave points_mean</th>\n",
       "      <th>symmetry_mean</th>\n",
       "      <th>...</th>\n",
       "      <th>radius_worst</th>\n",
       "      <th>texture_worst</th>\n",
       "      <th>perimeter_worst</th>\n",
       "      <th>area_worst</th>\n",
       "      <th>smoothness_worst</th>\n",
       "      <th>compactness_worst</th>\n",
       "      <th>concavity_worst</th>\n",
       "      <th>concave points_worst</th>\n",
       "      <th>symmetry_worst</th>\n",
       "      <th>fractal_dimension_worst</th>\n",
       "    </tr>\n",
       "  </thead>\n",
       "  <tbody>\n",
       "    <tr>\n",
       "      <th>0</th>\n",
       "      <td>M</td>\n",
       "      <td>17.99</td>\n",
       "      <td>10.38</td>\n",
       "      <td>122.80</td>\n",
       "      <td>1001.0</td>\n",
       "      <td>0.11840</td>\n",
       "      <td>0.27760</td>\n",
       "      <td>0.3001</td>\n",
       "      <td>0.14710</td>\n",
       "      <td>0.2419</td>\n",
       "      <td>...</td>\n",
       "      <td>25.38</td>\n",
       "      <td>17.33</td>\n",
       "      <td>184.60</td>\n",
       "      <td>2019.0</td>\n",
       "      <td>0.1622</td>\n",
       "      <td>0.6656</td>\n",
       "      <td>0.7119</td>\n",
       "      <td>0.2654</td>\n",
       "      <td>0.4601</td>\n",
       "      <td>0.11890</td>\n",
       "    </tr>\n",
       "    <tr>\n",
       "      <th>1</th>\n",
       "      <td>M</td>\n",
       "      <td>20.57</td>\n",
       "      <td>17.77</td>\n",
       "      <td>132.90</td>\n",
       "      <td>1326.0</td>\n",
       "      <td>0.08474</td>\n",
       "      <td>0.07864</td>\n",
       "      <td>0.0869</td>\n",
       "      <td>0.07017</td>\n",
       "      <td>0.1812</td>\n",
       "      <td>...</td>\n",
       "      <td>24.99</td>\n",
       "      <td>23.41</td>\n",
       "      <td>158.80</td>\n",
       "      <td>1956.0</td>\n",
       "      <td>0.1238</td>\n",
       "      <td>0.1866</td>\n",
       "      <td>0.2416</td>\n",
       "      <td>0.1860</td>\n",
       "      <td>0.2750</td>\n",
       "      <td>0.08902</td>\n",
       "    </tr>\n",
       "    <tr>\n",
       "      <th>2</th>\n",
       "      <td>M</td>\n",
       "      <td>19.69</td>\n",
       "      <td>21.25</td>\n",
       "      <td>130.00</td>\n",
       "      <td>1203.0</td>\n",
       "      <td>0.10960</td>\n",
       "      <td>0.15990</td>\n",
       "      <td>0.1974</td>\n",
       "      <td>0.12790</td>\n",
       "      <td>0.2069</td>\n",
       "      <td>...</td>\n",
       "      <td>23.57</td>\n",
       "      <td>25.53</td>\n",
       "      <td>152.50</td>\n",
       "      <td>1709.0</td>\n",
       "      <td>0.1444</td>\n",
       "      <td>0.4245</td>\n",
       "      <td>0.4504</td>\n",
       "      <td>0.2430</td>\n",
       "      <td>0.3613</td>\n",
       "      <td>0.08758</td>\n",
       "    </tr>\n",
       "    <tr>\n",
       "      <th>3</th>\n",
       "      <td>M</td>\n",
       "      <td>11.42</td>\n",
       "      <td>20.38</td>\n",
       "      <td>77.58</td>\n",
       "      <td>386.1</td>\n",
       "      <td>0.14250</td>\n",
       "      <td>0.28390</td>\n",
       "      <td>0.2414</td>\n",
       "      <td>0.10520</td>\n",
       "      <td>0.2597</td>\n",
       "      <td>...</td>\n",
       "      <td>14.91</td>\n",
       "      <td>26.50</td>\n",
       "      <td>98.87</td>\n",
       "      <td>567.7</td>\n",
       "      <td>0.2098</td>\n",
       "      <td>0.8663</td>\n",
       "      <td>0.6869</td>\n",
       "      <td>0.2575</td>\n",
       "      <td>0.6638</td>\n",
       "      <td>0.17300</td>\n",
       "    </tr>\n",
       "    <tr>\n",
       "      <th>4</th>\n",
       "      <td>M</td>\n",
       "      <td>20.29</td>\n",
       "      <td>14.34</td>\n",
       "      <td>135.10</td>\n",
       "      <td>1297.0</td>\n",
       "      <td>0.10030</td>\n",
       "      <td>0.13280</td>\n",
       "      <td>0.1980</td>\n",
       "      <td>0.10430</td>\n",
       "      <td>0.1809</td>\n",
       "      <td>...</td>\n",
       "      <td>22.54</td>\n",
       "      <td>16.67</td>\n",
       "      <td>152.20</td>\n",
       "      <td>1575.0</td>\n",
       "      <td>0.1374</td>\n",
       "      <td>0.2050</td>\n",
       "      <td>0.4000</td>\n",
       "      <td>0.1625</td>\n",
       "      <td>0.2364</td>\n",
       "      <td>0.07678</td>\n",
       "    </tr>\n",
       "  </tbody>\n",
       "</table>\n",
       "<p>5 rows × 31 columns</p>\n",
       "</div>"
      ],
      "text/plain": [
       "  diagnosis  radius_mean  texture_mean  perimeter_mean  area_mean  \\\n",
       "0         M        17.99         10.38          122.80     1001.0   \n",
       "1         M        20.57         17.77          132.90     1326.0   \n",
       "2         M        19.69         21.25          130.00     1203.0   \n",
       "3         M        11.42         20.38           77.58      386.1   \n",
       "4         M        20.29         14.34          135.10     1297.0   \n",
       "\n",
       "   smoothness_mean  compactness_mean  concavity_mean  concave points_mean  \\\n",
       "0          0.11840           0.27760          0.3001              0.14710   \n",
       "1          0.08474           0.07864          0.0869              0.07017   \n",
       "2          0.10960           0.15990          0.1974              0.12790   \n",
       "3          0.14250           0.28390          0.2414              0.10520   \n",
       "4          0.10030           0.13280          0.1980              0.10430   \n",
       "\n",
       "   symmetry_mean  ...  radius_worst  texture_worst  perimeter_worst  \\\n",
       "0         0.2419  ...         25.38          17.33           184.60   \n",
       "1         0.1812  ...         24.99          23.41           158.80   \n",
       "2         0.2069  ...         23.57          25.53           152.50   \n",
       "3         0.2597  ...         14.91          26.50            98.87   \n",
       "4         0.1809  ...         22.54          16.67           152.20   \n",
       "\n",
       "   area_worst  smoothness_worst  compactness_worst  concavity_worst  \\\n",
       "0      2019.0            0.1622             0.6656           0.7119   \n",
       "1      1956.0            0.1238             0.1866           0.2416   \n",
       "2      1709.0            0.1444             0.4245           0.4504   \n",
       "3       567.7            0.2098             0.8663           0.6869   \n",
       "4      1575.0            0.1374             0.2050           0.4000   \n",
       "\n",
       "   concave points_worst  symmetry_worst  fractal_dimension_worst  \n",
       "0                0.2654          0.4601                  0.11890  \n",
       "1                0.1860          0.2750                  0.08902  \n",
       "2                0.2430          0.3613                  0.08758  \n",
       "3                0.2575          0.6638                  0.17300  \n",
       "4                0.1625          0.2364                  0.07678  \n",
       "\n",
       "[5 rows x 31 columns]"
      ]
     },
     "execution_count": 3,
     "metadata": {},
     "output_type": "execute_result"
    }
   ],
   "source": [
    "# Считайте набор данных из файла Cancer_Data.csv\n",
    "data = pd.read_csv('Cancer_Data.csv').drop(['id', 'Unnamed: 32'], axis=1)\n",
    "data.head()"
   ]
  },
  {
   "cell_type": "code",
   "execution_count": 4,
   "id": "320321e9-05ed-4153-9138-09d0eb5140ba",
   "metadata": {
    "id": "320321e9-05ed-4153-9138-09d0eb5140ba"
   },
   "outputs": [
    {
     "name": "stdout",
     "output_type": "stream",
     "text": [
      "diagnosis\n",
      "1    357\n",
      "0    212\n",
      "Name: count, dtype: int64\n"
     ]
    }
   ],
   "source": [
    "# Закодируйте значения в колонке с целевой переменной. Рак типа B - класс 1, рак типа M - класс 0\n",
    "# ваш код здесь\n",
    "data['diagnosis'].replace({'B': 1, 'M': 0}, inplace=True)\n",
    "print(data.diagnosis.value_counts())"
   ]
  },
  {
   "cell_type": "code",
   "execution_count": 5,
   "id": "c820ed2e",
   "metadata": {},
   "outputs": [],
   "source": [
    "X = data.drop('diagnosis', axis=1)\n",
    "y = data['diagnosis']"
   ]
  },
  {
   "cell_type": "code",
   "execution_count": 6,
   "id": "c4f141e3-4cbc-418b-b851-472ed0ae6d8d",
   "metadata": {
    "id": "c4f141e3-4cbc-418b-b851-472ed0ae6d8d"
   },
   "outputs": [
    {
     "data": {
      "text/plain": [
       "((341, 30), (228, 30), (341,), (228,))"
      ]
     },
     "execution_count": 6,
     "metadata": {},
     "output_type": "execute_result"
    }
   ],
   "source": [
    "# Разделите набор на тренировочную и тестовую выборки. размер тестовой выборки - 0.4, стратификация по целевой переменной, перемешивание включено,\n",
    "# random_state=RANDOM_STATE\n",
    "X_train, X_test, y_train, y_test = train_test_split(\n",
    "    X,\n",
    "    y,\n",
    "    test_size=0.4,\n",
    "    random_state=RANDOM_STATE,\n",
    "    shuffle=True,\n",
    "    stratify=y) # ваш код здесь\n",
    "\n",
    "X_train.shape, X_test.shape, y_train.shape, y_test.shape"
   ]
  },
  {
   "cell_type": "code",
   "execution_count": 7,
   "id": "fbb9c5d7-f700-46a9-b989-d9b36160e735",
   "metadata": {
    "id": "fbb9c5d7-f700-46a9-b989-d9b36160e735"
   },
   "outputs": [
    {
     "name": "stdout",
     "output_type": "stream",
     "text": [
      "Лучшие параметры: {'C': 0.1}\n",
      "Лучший скор: 0.9893023643023643\n"
     ]
    }
   ],
   "source": [
    "# Создайте модель логистической регрессии и подберите ее оптимальные параметры с помощью GridSearchCV. Целевая метрика - ROC-AUC, количество фолдов 10\n",
    "log_reg = LogisticRegression(random_state=RANDOM_STATE) # ваш код здесь\n",
    "\n",
    "params = {\n",
    "    'C' : [0.1, 0.3, 0.5, 0.7, 1.0]\n",
    "}\n",
    "\n",
    "clf = GridSearchCV(\n",
    "    estimator=log_reg,\n",
    "    param_grid=params,\n",
    "    scoring='roc_auc',\n",
    "    cv=10) # ваш код здесь\n",
    "\n",
    "clf.fit(X_train, y_train)\n",
    "best_params = clf.best_params_\n",
    "print(f'Лучшие параметры: {best_params}')\n",
    "print(f'Лучший скор: {clf.best_score_}')"
   ]
  },
  {
   "cell_type": "code",
   "execution_count": 8,
   "id": "9876c485-2d52-42a4-8973-f6bf25539e54",
   "metadata": {
    "id": "9876c485-2d52-42a4-8973-f6bf25539e54"
   },
   "outputs": [
    {
     "name": "stdout",
     "output_type": "stream",
     "text": [
      "ROC-AUC на тестовом наборе: 0.93\n"
     ]
    }
   ],
   "source": [
    "# Обучите модель логистической регрессии с лучшими параметрами на тренировочной выборке и выполните предсказания на тестовой\n",
    "model = LogisticRegression(random_state=RANDOM_STATE, C=0.1) #clf.best_estimator_ # ваш код здесь\n",
    "model.fit(X_train, y_train)\n",
    "pred = model.predict(X_test) # ваш код здесь\n",
    "roc_auc = roc_auc_score(y_test, pred)\n",
    "print(f'ROC-AUC на тестовом наборе: {roc_auc:.2f}')"
   ]
  },
  {
   "cell_type": "code",
   "execution_count": 9,
   "id": "f49fdbf1-ac7a-49d5-b509-05ad8946024f",
   "metadata": {
    "id": "f49fdbf1-ac7a-49d5-b509-05ad8946024f"
   },
   "outputs": [],
   "source": [
    "# Рассчитав коэффициенты модели, определите признак, который оказывает наиболее сильное влияние на наличие рака типа `'B'` у пациента\n",
    "# ваш код здесь\n",
    "coefs = model.coef_[0]\n",
    "feature_names = X_train.columns\n",
    "df_coefs = pd.DataFrame(\n",
    "    {'Feature': feature_names,\n",
    "     'Coefficient': coefs}\n",
    ")\n",
    "df_coefs['Coef_abs'] = df_coefs['Coefficient'].abs()\n",
    "df_coefs = df_coefs.sort_values('Coefficient', ascending=False)"
   ]
  },
  {
   "cell_type": "code",
   "execution_count": 33,
   "id": "4a889219",
   "metadata": {},
   "outputs": [
    {
     "data": {
      "text/plain": [
       "'radius_worst'"
      ]
     },
     "execution_count": 33,
     "metadata": {},
     "output_type": "execute_result"
    }
   ],
   "source": [
    "df_coefs.iloc[0]['Feature']"
   ]
  },
  {
   "cell_type": "markdown",
   "id": "60d96684-2332-4c1a-989a-63016ca6e2dc",
   "metadata": {
    "id": "60d96684-2332-4c1a-989a-63016ca6e2dc",
    "jp-MarkdownHeadingCollapsed": true
   },
   "source": [
    "### Задание 3\n",
    "\n",
    "Давайте интерпретируем результаты логистической регрессии.\n"
   ]
  },
  {
   "cell_type": "code",
   "execution_count": 75,
   "id": "M-I3jJZCumfs",
   "metadata": {
    "id": "M-I3jJZCumfs"
   },
   "outputs": [],
   "source": [
    "# Будете ли вы использовать те же X и y как и в предыдущем задании?\n",
    "X, y = data.drop('diagnosis', axis=1), data['diagnosis'] # ваш код здесь"
   ]
  },
  {
   "cell_type": "code",
   "execution_count": 35,
   "id": "uIH6Rr0neYLL",
   "metadata": {
    "id": "uIH6Rr0neYLL"
   },
   "outputs": [
    {
     "name": "stdout",
     "output_type": "stream",
     "text": [
      "Best score is 0.991170892599464, best params are {'C': 1.0}\n"
     ]
    }
   ],
   "source": [
    "log_reg_2 = LogisticRegression(random_state=RANDOM_STATE)\n",
    "\n",
    "params = {\n",
    "    'C' : [0.1, 0.3, 0.5, 0.7, 1.0]\n",
    "}\n",
    "\n",
    "clf = GridSearchCV(log_reg_2, params, scoring='roc_auc', cv=10)\n",
    "clf.fit(X, y)\n",
    "print(f'Best score is {clf.best_score_}, best params are {clf.best_params_}')"
   ]
  },
  {
   "cell_type": "code",
   "execution_count": 36,
   "id": "1f6e5be6",
   "metadata": {},
   "outputs": [
    {
     "name": "stdout",
     "output_type": "stream",
     "text": [
      "ROC-AUC на всем наборе: 0.94\n"
     ]
    }
   ],
   "source": [
    "lr_2 = LogisticRegression(random_state=RANDOM_STATE, C=1.0)\n",
    "lr_2.fit(X, y)\n",
    "pred_2 = lr_2.predict(X) # ваш код здесь\n",
    "roc_auc_2 = roc_auc_score(y, pred_2)\n",
    "print(f'ROC-AUC на всем наборе: {roc_auc_2:.2f}')"
   ]
  },
  {
   "cell_type": "code",
   "execution_count": 51,
   "id": "3eb88b72",
   "metadata": {},
   "outputs": [
    {
     "data": {
      "text/plain": [
       "3.7153946065515812e-06"
      ]
     },
     "execution_count": 51,
     "metadata": {},
     "output_type": "execute_result"
    }
   ],
   "source": [
    "# пятый пациент\n",
    "float(lr_2.predict_proba(X)[:,1][4])"
   ]
  },
  {
   "cell_type": "code",
   "execution_count": 48,
   "id": "fzIjJn8Vva7T",
   "metadata": {
    "id": "fzIjJn8Vva7T"
   },
   "outputs": [
    {
     "data": {
      "text/html": [
       "<div>\n",
       "<style scoped>\n",
       "    .dataframe tbody tr th:only-of-type {\n",
       "        vertical-align: middle;\n",
       "    }\n",
       "\n",
       "    .dataframe tbody tr th {\n",
       "        vertical-align: top;\n",
       "    }\n",
       "\n",
       "    .dataframe thead th {\n",
       "        text-align: right;\n",
       "    }\n",
       "</style>\n",
       "<table border=\"1\" class=\"dataframe\">\n",
       "  <thead>\n",
       "    <tr style=\"text-align: right;\">\n",
       "      <th></th>\n",
       "      <th>Feature</th>\n",
       "      <th>Coefficient</th>\n",
       "      <th>Coef_abs</th>\n",
       "    </tr>\n",
       "  </thead>\n",
       "  <tbody>\n",
       "    <tr>\n",
       "      <th>20</th>\n",
       "      <td>radius_worst</td>\n",
       "      <td>1.028790</td>\n",
       "      <td>1.028790</td>\n",
       "    </tr>\n",
       "    <tr>\n",
       "      <th>0</th>\n",
       "      <td>radius_mean</td>\n",
       "      <td>0.967719</td>\n",
       "      <td>0.967719</td>\n",
       "    </tr>\n",
       "    <tr>\n",
       "      <th>1</th>\n",
       "      <td>texture_mean</td>\n",
       "      <td>0.467707</td>\n",
       "      <td>0.467707</td>\n",
       "    </tr>\n",
       "    <tr>\n",
       "      <th>11</th>\n",
       "      <td>texture_se</td>\n",
       "      <td>0.382975</td>\n",
       "      <td>0.382975</td>\n",
       "    </tr>\n",
       "    <tr>\n",
       "      <th>2</th>\n",
       "      <td>perimeter_mean</td>\n",
       "      <td>0.277307</td>\n",
       "      <td>0.277307</td>\n",
       "    </tr>\n",
       "    <tr>\n",
       "      <th>12</th>\n",
       "      <td>perimeter_se</td>\n",
       "      <td>0.149590</td>\n",
       "      <td>0.149590</td>\n",
       "    </tr>\n",
       "    <tr>\n",
       "      <th>10</th>\n",
       "      <td>radius_se</td>\n",
       "      <td>0.042072</td>\n",
       "      <td>0.042072</td>\n",
       "    </tr>\n",
       "    <tr>\n",
       "      <th>14</th>\n",
       "      <td>smoothness_se</td>\n",
       "      <td>-0.003262</td>\n",
       "      <td>0.003262</td>\n",
       "    </tr>\n",
       "    <tr>\n",
       "      <th>19</th>\n",
       "      <td>fractal_dimension_se</td>\n",
       "      <td>-0.003389</td>\n",
       "      <td>0.003389</td>\n",
       "    </tr>\n",
       "    <tr>\n",
       "      <th>9</th>\n",
       "      <td>fractal_dimension_mean</td>\n",
       "      <td>-0.009974</td>\n",
       "      <td>0.009974</td>\n",
       "    </tr>\n",
       "  </tbody>\n",
       "</table>\n",
       "</div>"
      ],
      "text/plain": [
       "                   Feature  Coefficient  Coef_abs\n",
       "20            radius_worst     1.028790  1.028790\n",
       "0              radius_mean     0.967719  0.967719\n",
       "1             texture_mean     0.467707  0.467707\n",
       "11              texture_se     0.382975  0.382975\n",
       "2           perimeter_mean     0.277307  0.277307\n",
       "12            perimeter_se     0.149590  0.149590\n",
       "10               radius_se     0.042072  0.042072\n",
       "14           smoothness_se    -0.003262  0.003262\n",
       "19    fractal_dimension_se    -0.003389  0.003389\n",
       "9   fractal_dimension_mean    -0.009974  0.009974"
      ]
     },
     "execution_count": 48,
     "metadata": {},
     "output_type": "execute_result"
    }
   ],
   "source": [
    "# ваш код здесь\n",
    "coefs_2 = lr_2.coef_[0]\n",
    "feature_names_2 = X.columns\n",
    "df_coefs_2 = pd.DataFrame(\n",
    "    {'Feature': feature_names_2,\n",
    "     'Coefficient': coefs_2}\n",
    ")\n",
    "df_coefs_2['Coef_abs'] = df_coefs_2['Coefficient'].abs()\n",
    "df_coefs_2 = df_coefs_2.sort_values('Coefficient', ascending=False)\n",
    "df_coefs_2[:10]"
   ]
  },
  {
   "cell_type": "code",
   "execution_count": 76,
   "id": "a852f797",
   "metadata": {},
   "outputs": [
    {
     "data": {
      "text/plain": [
       "radius_mean                  20.290000\n",
       "texture_mean                 14.340000\n",
       "perimeter_mean              135.100000\n",
       "area_mean                  1297.000000\n",
       "smoothness_mean               0.100300\n",
       "compactness_mean              0.132800\n",
       "concavity_mean                0.198000\n",
       "concave points_mean           0.104300\n",
       "symmetry_mean                 0.180900\n",
       "fractal_dimension_mean        0.058830\n",
       "radius_se                     0.757200\n",
       "texture_se                    0.781300\n",
       "perimeter_se                  5.438000\n",
       "area_se                      94.440000\n",
       "smoothness_se                 0.011490\n",
       "compactness_se                0.024610\n",
       "concavity_se                  0.056880\n",
       "concave points_se             0.018850\n",
       "symmetry_se                   0.017560\n",
       "fractal_dimension_se          0.005115\n",
       "radius_worst                 22.540000\n",
       "texture_worst                16.670000\n",
       "perimeter_worst             152.200000\n",
       "area_worst                 1575.000000\n",
       "smoothness_worst              0.137400\n",
       "compactness_worst             0.205000\n",
       "concavity_worst               0.400000\n",
       "concave points_worst          0.162500\n",
       "symmetry_worst                0.236400\n",
       "fractal_dimension_worst       0.076780\n",
       "Name: 4, dtype: float64"
      ]
     },
     "execution_count": 76,
     "metadata": {},
     "output_type": "execute_result"
    }
   ],
   "source": [
    "X.iloc[4, :]#[['proba']]#.describe()"
   ]
  },
  {
   "cell_type": "code",
   "execution_count": 78,
   "id": "68e8e5f3",
   "metadata": {},
   "outputs": [
    {
     "name": "stdout",
     "output_type": "stream",
     "text": [
      "Вероятность рака 5-го пациента: [1.03944079e-05]\n"
     ]
    }
   ],
   "source": [
    "# 22.54 - > 23.54\n",
    "patient_5 = X.iloc[4, :]\n",
    "# patient_5['radius_worst'] = patient_5['radius_worst'] + 1\n",
    "patient_5 = patient_5.values.reshape(1, -1)\n",
    "new_result = lr_2.predict_proba(patient_5)[:,1]\n",
    "new_radius = 23.54\n",
    "print(f'Вероятность рака 5-го пациента: {new_result}')\n"
   ]
  },
  {
   "cell_type": "code",
   "execution_count": 64,
   "id": "632a551b",
   "metadata": {},
   "outputs": [
    {
     "data": {
      "text/plain": [
       "radius_mean                  20.290000\n",
       "texture_mean                 14.340000\n",
       "perimeter_mean              135.100000\n",
       "area_mean                  1297.000000\n",
       "smoothness_mean               0.100300\n",
       "compactness_mean              0.132800\n",
       "concavity_mean                0.198000\n",
       "concave points_mean           0.104300\n",
       "symmetry_mean                 0.180900\n",
       "fractal_dimension_mean        0.058830\n",
       "radius_se                     0.757200\n",
       "texture_se                    0.781300\n",
       "perimeter_se                  5.438000\n",
       "area_se                      94.440000\n",
       "smoothness_se                 0.011490\n",
       "compactness_se                0.024610\n",
       "concavity_se                  0.056880\n",
       "concave points_se             0.018850\n",
       "symmetry_se                   0.017560\n",
       "fractal_dimension_se          0.005115\n",
       "radius_worst                 23.540000\n",
       "texture_worst                16.670000\n",
       "perimeter_worst             152.200000\n",
       "area_worst                 1575.000000\n",
       "smoothness_worst              0.137400\n",
       "compactness_worst             0.205000\n",
       "concavity_worst               0.400000\n",
       "concave points_worst          0.162500\n",
       "symmetry_worst                0.236400\n",
       "fractal_dimension_worst       0.076780\n",
       "Name: 4, dtype: float64"
      ]
     },
     "execution_count": 64,
     "metadata": {},
     "output_type": "execute_result"
    }
   ],
   "source": [
    "patient_5"
   ]
  },
  {
   "cell_type": "code",
   "execution_count": 55,
   "id": "a35d41bb",
   "metadata": {},
   "outputs": [
    {
     "data": {
      "text/plain": [
       "23.54"
      ]
     },
     "execution_count": 55,
     "metadata": {},
     "output_type": "execute_result"
    }
   ],
   "source": [
    "X.iloc[4, :]['radius_worst'] + 1"
   ]
  },
  {
   "cell_type": "code",
   "execution_count": 86,
   "id": "cd7eac5e",
   "metadata": {},
   "outputs": [
    {
     "name": "stdout",
     "output_type": "stream",
     "text": [
      "30.762800000000002 16.46\n"
     ]
    }
   ],
   "source": [
    "p65 = X['radius_worst'].quantile(0.65)\n",
    "p99 = X['radius_worst'].quantile(0.99)\n",
    "print(p99, p65)"
   ]
  },
  {
   "cell_type": "code",
   "execution_count": 85,
   "id": "0c9c8e17",
   "metadata": {},
   "outputs": [
    {
     "data": {
      "text/plain": [
       "0.10369068541300527"
      ]
     },
     "execution_count": 85,
     "metadata": {},
     "output_type": "execute_result"
    }
   ],
   "source": [
    "len(X[X['radius_worst'] > new_radius]) / len(X)\n"
   ]
  },
  {
   "cell_type": "code",
   "execution_count": 100,
   "id": "c3c6239b",
   "metadata": {},
   "outputs": [
    {
     "name": "stdout",
     "output_type": "stream",
     "text": [
      "Вероятность рака 5-го пациента: [1.03944079e-05]\n",
      "38 квантиль: 0.777561752997377\n",
      "65 квантиль: 0.9886331448862105\n",
      "93 квантиль: 0.9992931534336035\n"
     ]
    }
   ],
   "source": [
    "print(f'Вероятность рака 5-го пациента: {lr_2.predict_proba(patient_5)[:,1]}')\n",
    "cancer_all = pd.Series(lr_2.predict_proba(X.drop('proba', axis=1))[:,1])\n",
    "p38_all = cancer_all.quantile(0.40)\n",
    "p65_all = cancer_all.quantile(0.65)\n",
    "p93_all = cancer_all.quantile(0.93)\n",
    "print('38 квантиль:', p38_all)\n",
    "print('65 квантиль:', p65_all)\n",
    "print('93 квантиль:', p93_all)\n"
   ]
  },
  {
   "cell_type": "code",
   "execution_count": 102,
   "id": "a1b9c20e",
   "metadata": {},
   "outputs": [
    {
     "data": {
      "text/plain": [
       "array([False, False, False,  True,  True,  True, False,  True,  True,\n",
       "        True,  True,  True, False,  True,  True,  True,  True,  True,\n",
       "       False,  True,  True,  True,  True, False, False, False,  True,\n",
       "       False, False,  True, False,  True,  True, False,  True,  True,\n",
       "        True,  True,  True,  True,  True,  True, False,  True,  True,\n",
       "       False,  True,  True,  True,  True,  True,  True,  True,  True,\n",
       "        True,  True, False,  True,  True,  True,  True,  True,  True,\n",
       "        True,  True,  True,  True,  True,  True,  True, False,  True,\n",
       "       False,  True,  True,  True,  True, False, False,  True,  True,\n",
       "        True, False,  True,  True, False,  True,  True,  True,  True,\n",
       "        True,  True,  True,  True,  True, False,  True,  True,  True,\n",
       "        True,  True,  True,  True,  True,  True,  True,  True,  True,\n",
       "       False,  True,  True,  True,  True,  True,  True,  True,  True,\n",
       "        True,  True,  True,  True, False, False,  True,  True,  True,\n",
       "        True, False,  True, False,  True,  True,  True,  True, False,\n",
       "        True,  True,  True,  True,  True,  True,  True,  True,  True,\n",
       "        True,  True,  True,  True,  True,  True,  True,  True,  True,\n",
       "        True,  True,  True,  True,  True,  True,  True,  True, False,\n",
       "       False,  True, False,  True,  True,  True, False,  True,  True,\n",
       "        True,  True,  True,  True,  True,  True,  True,  True,  True,\n",
       "       False, False,  True,  True,  True,  True,  True,  True,  True,\n",
       "        True,  True,  True,  True,  True,  True,  True,  True,  True,\n",
       "       False,  True,  True,  True, False, False,  True,  True,  True,\n",
       "        True,  True,  True, False,  True, False,  True,  True,  True,\n",
       "        True,  True, False, False,  True,  True,  True,  True,  True,\n",
       "        True,  True,  True,  True,  True,  True,  True,  True, False,\n",
       "        True,  True, False, False,  True,  True,  True,  True,  True,\n",
       "        True,  True,  True,  True,  True,  True,  True, False,  True,\n",
       "       False,  True, False,  True, False,  True, False,  True, False,\n",
       "        True,  True,  True,  True, False,  True,  True,  True,  True,\n",
       "        True,  True, False,  True,  True,  True,  True,  True,  True,\n",
       "        True, False,  True, False,  True,  True,  True,  True,  True,\n",
       "        True,  True,  True,  True,  True,  True,  True,  True,  True,\n",
       "        True,  True,  True, False,  True, False,  True,  True,  True,\n",
       "        True,  True,  True,  True,  True,  True,  True,  True,  True,\n",
       "        True,  True,  True,  True,  True,  True, False,  True, False,\n",
       "        True,  True,  True,  True,  True,  True,  True,  True,  True,\n",
       "        True,  True, False,  True, False,  True, False,  True,  True,\n",
       "        True, False,  True,  True,  True,  True,  True,  True,  True,\n",
       "        True, False,  True,  True,  True,  True,  True,  True,  True,\n",
       "        True,  True,  True,  True,  True, False, False,  True, False,\n",
       "       False,  True,  True,  True, False,  True,  True,  True,  True,\n",
       "        True,  True,  True,  True,  True,  True,  True,  True,  True,\n",
       "        True,  True,  True,  True,  True, False, False,  True,  True,\n",
       "        True,  True,  True,  True,  True,  True,  True,  True,  True,\n",
       "        True,  True,  True,  True,  True,  True,  True,  True,  True,\n",
       "        True,  True,  True, False,  True,  True,  True,  True,  True,\n",
       "        True,  True,  True,  True,  True,  True,  True,  True,  True,\n",
       "        True, False,  True,  True,  True,  True,  True,  True,  True,\n",
       "        True,  True,  True,  True,  True, False,  True,  True, False,\n",
       "        True,  True,  True,  True,  True,  True,  True,  True,  True,\n",
       "        True, False, False,  True,  True,  True,  True,  True,  True,\n",
       "       False,  True,  True,  True,  True,  True,  True,  True,  True,\n",
       "        True,  True,  True,  True,  True,  True,  True,  True,  True,\n",
       "        True, False,  True,  True,  True,  True, False,  True,  True,\n",
       "        True,  True,  True, False, False,  True,  True,  True, False,\n",
       "        True,  True,  True,  True,  True,  True,  True,  True,  True,\n",
       "        True,  True,  True,  True, False,  True,  True,  True, False,\n",
       "        True,  True,  True,  True,  True,  True,  True,  True,  True,\n",
       "        True,  True, False,  True, False,  True,  True,  True,  True,\n",
       "        True,  True,  True,  True,  True,  True,  True,  True,  True,\n",
       "        True,  True,  True,  True,  True,  True,  True,  True,  True,\n",
       "        True,  True,  True,  True,  True, False, False, False,  True,\n",
       "       False,  True])"
      ]
     },
     "execution_count": 102,
     "metadata": {},
     "output_type": "execute_result"
    }
   ],
   "source": [
    "cancer_all = lr_2.predict_proba(X.drop('proba', axis=1))[:,1] # > new_result #.count() #.sum()\n",
    "(cancer_all > new_result)"
   ]
  },
  {
   "cell_type": "code",
   "execution_count": 103,
   "id": "f0ae4559",
   "metadata": {},
   "outputs": [
    {
     "data": {
      "text/plain": [
       "0.8400702987697716"
      ]
     },
     "execution_count": 103,
     "metadata": {},
     "output_type": "execute_result"
    }
   ],
   "source": [
    "X['proba'] = cancer_all\n",
    "X[X['proba'] > new_result[0]]\n",
    "478 / 569"
   ]
  },
  {
   "cell_type": "markdown",
   "id": "863a5340-ccbb-46f6-b4bb-11f56f672edc",
   "metadata": {
    "id": "863a5340-ccbb-46f6-b4bb-11f56f672edc",
    "jp-MarkdownHeadingCollapsed": true
   },
   "source": [
    "### Задание 4\n",
    "\n",
    "Постройте матрицу ошибок и рассчитайте необходимые метрики. Выберите все верные ответы в списке."
   ]
  },
  {
   "cell_type": "code",
   "execution_count": 10,
   "id": "998db36a",
   "metadata": {},
   "outputs": [
    {
     "name": "stdout",
     "output_type": "stream",
     "text": [
      "ROC-AUC на тестовом наборе: 0.94\n"
     ]
    }
   ],
   "source": [
    "# учим на всем наборе данных\n",
    "model_matrix = LogisticRegression(random_state=RANDOM_STATE, C=0.1) #clf.best_estimator_ # ваш код здесь\n",
    "model_matrix.fit(X, y)\n",
    "pred_all = model_matrix.predict(X) # ваш код здесь\n",
    "roc_auc_all = roc_auc_score(y, pred_all)\n",
    "print(f'ROC-AUC на тестовом наборе: {roc_auc_all:.2f}')"
   ]
  },
  {
   "cell_type": "code",
   "execution_count": 11,
   "id": "b58c0c95-a8cf-429c-8e9c-9dcb076b9dfd",
   "metadata": {
    "id": "b58c0c95-a8cf-429c-8e9c-9dcb076b9dfd"
   },
   "outputs": [
    {
     "data": {
      "image/png": "[encoded data removed]",
      "text/plain": [
       "<Figure size 600x400 with 2 Axes>"
      ]
     },
     "metadata": {},
     "output_type": "display_data"
    }
   ],
   "source": [
    "# cf_matrix = confusion_matrix(y_test.values, pred) # ваш код здесь\n",
    "cf_matrix = confusion_matrix(y, pred_all) # ваш код здесь\n",
    "plt.figure(figsize=(6, 4))\n",
    "\n",
    "ax = sns.heatmap(cf_matrix, annot=True, cmap='Blues', fmt='.4g')\n",
    "\n",
    "# ax.set_title('Confusion Matrix\\n')\n",
    "ax.set_xlabel('Predicted label')\n",
    "ax.set_ylabel('True label')\n",
    "\n",
    "plt.show()"
   ]
  },
  {
   "cell_type": "code",
   "execution_count": 12,
   "id": "6806975c",
   "metadata": {},
   "outputs": [
    {
     "data": {
      "text/plain": [
       "diagnosis\n",
       "1    357\n",
       "0    212\n",
       "Name: count, dtype: int64"
      ]
     },
     "execution_count": 12,
     "metadata": {},
     "output_type": "execute_result"
    }
   ],
   "source": [
    "# X_test,\n",
    "y_test.value_counts()\n",
    "y.value_counts()"
   ]
  },
  {
   "cell_type": "code",
   "execution_count": 13,
   "id": "e5ccf778",
   "metadata": {},
   "outputs": [
    {
     "name": "stdout",
     "output_type": "stream",
     "text": [
      "M-cancer 0.9009433962264151\n",
      "B-cancer false 0.036414565826330535\n",
      "B-cancer true 0.9635854341736695\n"
     ]
    }
   ],
   "source": [
    "print('M-cancer', 191/212)\n",
    "print('B-cancer false', 13/357)\n",
    "print('B-cancer true', 344/357)"
   ]
  },
  {
   "cell_type": "markdown",
   "id": "9f3b14c4-a553-42ca-ba70-0e1f8403cf66",
   "metadata": {
    "id": "9f3b14c4-a553-42ca-ba70-0e1f8403cf66",
    "jp-MarkdownHeadingCollapsed": true
   },
   "source": [
    "### Задание 5\n",
    "\n",
    "Выполните предсказания на тестовой выборке и рассчитайте значение метрики AUC-ROC, а также для наглядности постройте ROC-кривую.\n",
    "\n",
    "При разных порогах по вероятности (0.25, 0.5, 0.75) рассчитайте значения метрик (точность, полнота, F1-мера, ROC-AUC) и выберите все верные ответы."
   ]
  },
  {
   "cell_type": "code",
   "execution_count": 14,
   "id": "51cbce15-d237-49f4-b9a3-ce64bb9af71a",
   "metadata": {
    "id": "51cbce15-d237-49f4-b9a3-ce64bb9af71a"
   },
   "outputs": [
    {
     "name": "stdout",
     "output_type": "stream",
     "text": [
      "ROC-AUC на тестовом наборе: 0.93\n"
     ]
    }
   ],
   "source": [
    "# ваш код здесь\n",
    "roc_auc = roc_auc_score(y_test, pred)\n",
    "print(f'ROC-AUC на тестовом наборе: {roc_auc:.2f}')"
   ]
  },
  {
   "cell_type": "code",
   "execution_count": 15,
   "id": "b7c5e76e-f041-4fd2-a83e-82a3084543c0",
   "metadata": {
    "id": "b7c5e76e-f041-4fd2-a83e-82a3084543c0"
   },
   "outputs": [
    {
     "data": {
      "image/png": "[encoded data removed]",
      "text/plain": [
       "<Figure size 640x480 with 1 Axes>"
      ]
     },
     "metadata": {},
     "output_type": "display_data"
    }
   ],
   "source": [
    "pred_proba = model.predict_proba(X_test)[::, 1]\n",
    "fpr, tpr, thresholds = roc_curve(y_test, pred_proba)\n",
    "\n",
    "plt.plot(fpr, tpr, c='r', label=f'AUC-ROC: {roc_auc_score(y_test, pred): .3f}')\n",
    "plt.plot(fpr, fpr, linestyle='dashed', c='b', label='basic')\n",
    "plt.xlabel('False Positive Rate')\n",
    "plt.ylabel('True Positive Rate')\n",
    "plt.title('ROC-curve')\n",
    "plt.legend()\n",
    "plt.show()"
   ]
  },
  {
   "cell_type": "code",
   "execution_count": 16,
   "id": "a55b59d2",
   "metadata": {},
   "outputs": [
    {
     "data": {
      "text/plain": [
       "array([8.97784098e-01, 4.90886990e-01, 9.94680510e-01, 9.93540934e-01,\n",
       "       9.84352010e-01, 4.37486777e-02, 9.98136265e-01, 6.38006587e-09,\n",
       "       4.92353155e-01, 3.34130856e-03, 9.20435541e-01, 9.68486829e-01,\n",
       "       1.07993898e-03, 6.79911028e-05, 9.54524215e-01, 2.59097256e-02,\n",
       "       1.60456675e-03, 4.32336876e-09, 9.59014196e-01, 9.86483095e-01,\n",
       "       3.67952318e-07, 1.91723454e-02, 6.60793115e-01, 9.98146940e-01,\n",
       "       9.27536820e-01, 9.93876238e-01, 9.12031731e-01, 6.22343588e-06,\n",
       "       9.92397953e-01, 9.49359433e-01, 9.94501139e-01, 9.81163216e-01,\n",
       "       8.40041747e-01, 9.35163465e-01, 1.66499950e-06, 9.91705879e-01,\n",
       "       9.98053512e-01, 6.92889832e-01, 9.62091657e-01, 7.85153793e-01,\n",
       "       4.43609634e-01, 9.98354711e-01, 9.90836559e-01, 1.03947915e-34,\n",
       "       9.79300767e-01, 9.48310469e-01, 4.57731701e-01, 9.98118188e-01,\n",
       "       5.54516117e-03, 9.91664932e-01, 6.54840101e-01, 7.76196242e-03,\n",
       "       9.78078993e-01, 9.95633886e-19, 9.88978847e-01, 1.04595471e-05,\n",
       "       1.17371459e-08, 2.69539368e-09, 2.71540270e-01, 5.84122406e-12,\n",
       "       9.29043377e-01, 9.99250387e-01, 9.93941453e-01, 9.24757932e-01,\n",
       "       8.96250180e-04, 9.92821625e-01, 9.91253983e-01, 9.82251320e-01,\n",
       "       9.96697404e-01, 9.88784084e-01, 9.90538890e-01, 9.23029945e-01,\n",
       "       5.50941340e-15, 9.80082949e-01, 9.09192720e-01, 8.58422319e-01,\n",
       "       9.62013056e-01, 8.61038989e-01, 1.00986526e-14, 9.89302998e-01,\n",
       "       9.58550951e-01, 9.71619696e-01, 7.39967733e-01, 9.52738128e-01,\n",
       "       9.08002483e-02, 6.00895699e-01, 7.86186086e-01, 8.08138652e-01,\n",
       "       9.89317732e-01, 9.56252978e-01, 9.92204935e-01, 8.74007629e-01,\n",
       "       8.39570521e-01, 9.97698345e-01, 6.38645205e-01, 1.03135595e-01,\n",
       "       9.99102667e-01, 3.38188682e-06, 9.81095788e-01, 5.44717458e-03,\n",
       "       9.82793697e-01, 9.92417281e-01, 2.27607099e-03, 8.60201318e-01,\n",
       "       9.77461049e-01, 8.96604938e-01, 1.27143436e-05, 9.96479364e-01,\n",
       "       9.96560274e-01, 8.37774433e-01, 8.90300368e-01, 1.06423789e-08,\n",
       "       9.96624992e-01, 8.58685654e-01, 9.93150802e-01, 9.86640764e-01,\n",
       "       9.79277041e-01, 9.68706102e-01, 3.33203339e-17, 9.78727195e-01,\n",
       "       9.82147504e-01, 4.95205342e-07, 8.47205854e-01, 4.23520779e-01,\n",
       "       9.47079134e-01, 7.48581669e-05, 9.59448854e-01, 9.38900204e-01,\n",
       "       2.29132599e-02, 8.78222102e-01, 9.79879702e-01, 9.94776411e-01,\n",
       "       1.67454800e-06, 9.95530637e-01, 9.98136057e-01, 9.89119954e-01,\n",
       "       4.13911022e-01, 1.71252104e-06, 9.95603724e-01, 9.85770723e-01,\n",
       "       9.45319699e-01, 1.79589879e-15, 5.94357608e-01, 3.14301431e-01,\n",
       "       2.05294272e-01, 9.72522863e-01, 9.96826003e-01, 9.92832372e-01,\n",
       "       9.83430397e-01, 1.30616788e-09, 5.35146851e-11, 1.37085226e-02,\n",
       "       9.92865825e-01, 6.72368636e-01, 7.71723883e-05, 1.99110112e-06,\n",
       "       9.77516506e-01, 1.48315012e-02, 9.62069363e-01, 9.98690034e-01,\n",
       "       9.93271020e-01, 5.42764859e-01, 4.76994706e-04, 9.50761689e-01,\n",
       "       9.97817165e-01, 1.64410263e-02, 3.56562020e-08, 9.90911086e-01,\n",
       "       9.96780926e-01, 8.89527523e-01, 5.99064149e-01, 1.92113529e-02,\n",
       "       2.55520830e-05, 9.95735106e-01, 9.65184978e-01, 3.48885407e-11,\n",
       "       1.03766937e-06, 9.91907618e-01, 9.60227611e-01, 4.74839241e-04,\n",
       "       1.08146293e-06, 3.81723567e-05, 9.76522289e-01, 9.97465663e-01,\n",
       "       9.68931418e-01, 9.98077653e-01, 7.19109340e-03, 9.18671240e-01,\n",
       "       9.85295166e-01, 1.64888748e-02, 9.94556889e-01, 9.35858419e-01,\n",
       "       9.96624613e-01, 9.95807576e-01, 9.88685869e-01, 7.46768669e-01,\n",
       "       8.90012544e-01, 9.48656745e-01, 8.30548289e-01, 1.97195022e-05,\n",
       "       9.89004414e-01, 9.26284952e-01, 6.32242890e-08, 2.70727364e-03,\n",
       "       9.36291306e-01, 8.78794082e-01, 7.76792538e-05, 1.62461838e-03,\n",
       "       9.83914098e-01, 9.77054830e-01, 4.27666815e-03, 9.47565550e-01,\n",
       "       9.84480286e-01, 7.47024986e-01, 8.09374806e-10, 9.85507109e-01,\n",
       "       2.64127244e-05, 9.74261210e-01, 1.31047206e-26, 9.82664248e-01,\n",
       "       8.76430841e-03, 9.92731897e-01, 9.36475479e-08, 9.83794656e-01,\n",
       "       9.97162575e-01, 3.87771858e-06, 9.92177513e-01, 9.93849624e-01])"
      ]
     },
     "execution_count": 16,
     "metadata": {},
     "output_type": "execute_result"
    }
   ],
   "source": [
    "len(pred_proba)\n",
    "thresholds\n",
    "auc(fpr, tpr)\n",
    "model.predict_proba(X_test)[::, 1]"
   ]
  },
  {
   "cell_type": "code",
   "execution_count": 17,
   "id": "1db84aea-0b0c-4233-bf03-5aea1e857811",
   "metadata": {
    "id": "1db84aea-0b0c-4233-bf03-5aea1e857811"
   },
   "outputs": [
    {
     "name": "stdout",
     "output_type": "stream",
     "text": [
      "\n",
      "Порог: 0.25\n",
      "Точность (Precision): 0.894\n",
      "Полнота (Recall): 1.000\n",
      "F1-мера: 0.944\n",
      "\n",
      "Порог: 0.5\n",
      "Точность (Precision): 0.928\n",
      "Полнота (Recall): 0.986\n",
      "F1-мера: 0.956\n",
      "\n",
      "Порог: 0.75\n",
      "Точность (Precision): 0.950\n",
      "Полнота (Recall): 0.930\n",
      "F1-мера: 0.940\n"
     ]
    }
   ],
   "source": [
    "thresholds = [0.25, 0.5, 0.75]\n",
    "# ваш код здесь\n",
    "for threshold in thresholds:\n",
    "    y_pred = (pred_proba >= threshold)#.astype(int)\n",
    "    precision = precision_score(y_test, y_pred)\n",
    "    recall = recall_score(y_test, y_pred)\n",
    "    f1 = f1_score(y_test, y_pred)\n",
    "\n",
    "    print(f\"\\nПорог: {threshold}\")\n",
    "    print(f\"Точность (Precision): {precision:.3f}\")\n",
    "    print(f\"Полнота (Recall): {recall:.3f}\")\n",
    "    print(f\"F1-мера: {f1:.3f}\")"
   ]
  },
  {
   "cell_type": "markdown",
   "id": "6a1285b0-ad5c-44e8-ba00-59b972ee3c38",
   "metadata": {
    "id": "6a1285b0-ad5c-44e8-ba00-59b972ee3c38",
    "jp-MarkdownHeadingCollapsed": true
   },
   "source": [
    "### Задание 6\n",
    "\n",
    "Найти порог, при котором F1-мера будет принимать максимальное значение."
   ]
  },
  {
   "cell_type": "code",
   "execution_count": 18,
   "id": "183a61cb-9b24-4e86-a581-583cdca38bac",
   "metadata": {
    "id": "183a61cb-9b24-4e86-a581-583cdca38bac"
   },
   "outputs": [
    {
     "name": "stdout",
     "output_type": "stream",
     "text": [
      "0\n",
      "Оптимальный порог: 0.458\n",
      "Максимальное значение F1-меры: 0.963\n"
     ]
    }
   ],
   "source": [
    "# Порог надо искать среди чисел от 0 до 1 с шагом 0.001\n",
    "best_thresh = 0\n",
    "best_f1 = 0\n",
    "\n",
    "# ваш код здесь\n",
    "new_thresh = np.linspace(0, 1, 1000)\n",
    "for threshold in new_thresh:\n",
    "    y_best = 0\n",
    "    y_pred = (pred_proba >= threshold)\n",
    "    f1 = f1_score(y_test, y_pred)\n",
    "    if f1 > best_f1:\n",
    "        y_best = y_pred\n",
    "        best_f1 = f1\n",
    "        best_thresh = threshold\n",
    "\n",
    "print(y_best)\n",
    "print(f\"Оптимальный порог: {best_thresh:.3f}\")\n",
    "print(f\"Максимальное значение F1-меры: {best_f1:.3f}\")"
   ]
  },
  {
   "cell_type": "markdown",
   "id": "4edf4e39-38f1-49f2-94cc-7fc81e072664",
   "metadata": {
    "id": "4edf4e39-38f1-49f2-94cc-7fc81e072664",
    "jp-MarkdownHeadingCollapsed": true
   },
   "source": [
    "### Задание 7\n",
    "\n",
    "Если для исследователя точность важнее полноты (принять ${\\beta}$ = 0.5), то какой порог нужно выбрать для максимизации F-меры (перебор порога делать, как в предыдущем задании)? Рассчитайте также взвешанное значение F-меры в этом случае. Выберите все верные ответы из списка.\n",
    "\n",
    "В этой [статье](https://habr.com/ru/companies/ods/articles/328372/) приведена формула взвешанной F-меры: $F_{\\beta} = (1 + \\beta^2) \\cdot \\frac{precision \\cdot recall}{\\beta^2 \\cdot precision + recall}$"
   ]
  },
  {
   "cell_type": "code",
   "execution_count": 23,
   "id": "e8554903-0066-4d06-8e94-5dfa2fd34e17",
   "metadata": {
    "id": "e8554903-0066-4d06-8e94-5dfa2fd34e17"
   },
   "outputs": [
    {
     "name": "stdout",
     "output_type": "stream",
     "text": [
      "[1 0 1 1 1 0 1 0 0 0 1 1 0 0 1 0 0 0 1 1 0 0 0 1 1 1 1 0 1 1 1 1 0 1 0 1 1\n",
      " 0 1 0 0 1 1 0 1 1 0 1 0 1 0 0 1 0 1 0 0 0 0 0 1 1 1 1 0 1 1 1 1 1 1 1 0 1\n",
      " 1 0 1 0 0 1 1 1 0 1 0 0 0 0 1 1 1 0 0 1 0 0 1 0 1 0 1 1 0 0 1 1 0 1 1 0 1\n",
      " 0 1 0 1 1 1 1 0 1 1 0 0 0 1 0 1 1 0 0 1 1 0 1 1 1 0 0 1 1 1 0 0 0 0 1 1 1\n",
      " 1 0 0 0 1 0 0 0 1 0 1 1 1 0 0 1 1 0 0 1 1 1 0 0 0 1 1 0 0 1 1 0 0 0 1 1 1\n",
      " 1 0 1 1 0 1 1 1 1 1 0 1 1 0 0 1 1 0 0 1 0 0 0 1 1 0 1 1 0 0 1 0 1 0 1 0 1\n",
      " 0 1 1 0 1 1]\n",
      "Оптимальный порог: 0.879\n",
      "Максимальное значение F1-меры: 0.964\n",
      "Точность: 0.992\n",
      "Полнота: 0.867\n"
     ]
    }
   ],
   "source": [
    "# Тут процедура аналогичная, только вместо F1-меры надо считать взвешенную F-меру\n",
    "best_thresh = 0\n",
    "best_f_harmonic = 0\n",
    "beta = 0.5\n",
    "\n",
    "def f_harmonic(beta, precision, recall):\n",
    "    return (1 + beta**2) * ((precision * recall) / (beta**2 * precision + recall))\n",
    "\n",
    "# ваш код здесь\n",
    "new_thresh = np.linspace(0, 1, 1000)\n",
    "for threshold in new_thresh:\n",
    "    y_best = 0\n",
    "    y_pred = (pred_proba >= threshold)\n",
    "\n",
    "    precision = precision_score(y_test, y_pred)\n",
    "    recall = recall_score(y_test, y_pred)\n",
    "    f_harmonic_score = f_harmonic(beta, precision, recall)\n",
    "\n",
    "    if f_harmonic_score > best_f_harmonic:\n",
    "        # y_best = y_pred\n",
    "        best_f_harmonic = f_harmonic_score\n",
    "        best_thresh = threshold\n",
    "\n",
    "y_best = (pred_proba >= best_thresh).astype(int)\n",
    "precision = precision_score(y_test, y_best)\n",
    "recall = recall_score(y_test, y_best)\n",
    "\n",
    "\n",
    "print(f\"Оптимальный порог: {best_thresh:.3f}\")\n",
    "print(f\"Максимальное значение F1-меры: {best_f_harmonic:.3f}\")\n",
    "print(f'Точность: {precision:.3f}')\n",
    "print(f'Полнота: {recall:.3f}')"
   ]
  },
  {
   "cell_type": "markdown",
   "id": "81b807a1-73c0-4259-bbe3-0a49861b6096",
   "metadata": {
    "id": "81b807a1-73c0-4259-bbe3-0a49861b6096"
   },
   "source": [
    "### Задание 8\n",
    "\n",
    "Вернемся к предсказаниям нашей логистической регрессии. Воспользуемся метрикой gini для сравнения нашей модели со случайной. Подробнее про метрику можно почитать [здесь](https://habr.com/ru/companies/ods/articles/350440/). Постройте случайную модель (используя наш random seed из ноутбука) и посчитайте разность нашего gini и gini случайной модели. Выберите правильный ответ."
   ]
  },
  {
   "cell_type": "code",
   "execution_count": 35,
   "id": "16ce0db9-eca1-4798-9b2c-ee76fabe7424",
   "metadata": {
    "id": "16ce0db9-eca1-4798-9b2c-ee76fabe7424"
   },
   "outputs": [
    {
     "data": {
      "image/png": "[encoded data removed]",
      "text/plain": [
       "<Figure size 640x480 with 1 Axes>"
      ]
     },
     "metadata": {},
     "output_type": "display_data"
    }
   ],
   "source": [
    "rng = np.random.RandomState(RANDOM_STATE)\n",
    "random_probs = rng.uniform(0, 1, 228)\n",
    "\n",
    "pred_proba = model.predict_proba(X_test)[::, 1]\n",
    "fpr_1, tpr_1, thresholds_1 = roc_curve(y_test, pred_proba)\n",
    "\n",
    "fpr, tpr, thresholds = roc_curve(y_test, random_probs)\n",
    "\n",
    "plt.plot(fpr_1, tpr_1, c='g', label=f'AUC-ROC: {roc_auc_score(y_test, pred_proba): .3f}')\n",
    "plt.plot(fpr, tpr, c='r', label=f'AUC-ROC: {roc_auc_score(y_test, random_probs): .3f}')\n",
    "plt.plot(fpr, fpr, linestyle='dashed', c='b', label='basic')\n",
    "plt.xlabel('False Positive Rate')\n",
    "plt.ylabel('True Positive Rate')\n",
    "plt.title('ROC-curve')\n",
    "plt.legend()\n",
    "plt.grid()\n",
    "plt.show()"
   ]
  },
  {
   "cell_type": "code",
   "execution_count": 30,
   "id": "bd5160a9-24ce-41d3-82c6-423557e09dbd",
   "metadata": {
    "id": "bd5160a9-24ce-41d3-82c6-423557e09dbd"
   },
   "outputs": [],
   "source": [
    "strong_auc = roc_auc_score(y_test, pred_proba)\n",
    "random_auc = roc_auc_score(y_test, random_probs)\n",
    "strong_auc, random_auc\n",
    "gini_our = 2 * strong_auc - 1 # ваш код здесь\n",
    "gini_random = 2 * random_auc - 1 # ваш код здесь"
   ]
  },
  {
   "cell_type": "code",
   "execution_count": 33,
   "id": "8dc56fe7-9dbf-462e-9875-5be8a223c587",
   "metadata": {
    "id": "8dc56fe7-9dbf-462e-9875-5be8a223c587"
   },
   "outputs": [
    {
     "name": "stdout",
     "output_type": "stream",
     "text": [
      "Gini our: 0.9721925133689839\n",
      "Gini random: 0.12299465240641716\n"
     ]
    },
    {
     "data": {
      "text/plain": [
       "0.8491978609625668"
      ]
     },
     "execution_count": 33,
     "metadata": {},
     "output_type": "execute_result"
    }
   ],
   "source": [
    "print('Gini our:', gini_our)\n",
    "print('Gini random:', gini_random)\n",
    "gini_our - gini_random\n"
   ]
  }
 ],
 "metadata": {
  "colab": {
   "provenance": []
  },
  "kernelspec": {
   "display_name": ".venv",
   "language": "python",
   "name": "python3"
  },
  "language_info": {
   "codemirror_mode": {
    "name": "ipython",
    "version": 3
   },
   "file_extension": ".py",
   "mimetype": "text/x-python",
   "name": "python",
   "nbconvert_exporter": "python",
   "pygments_lexer": "ipython3",
   "version": "3.11.9"
  }
 },
 "nbformat": 4,
 "nbformat_minor": 5
}
