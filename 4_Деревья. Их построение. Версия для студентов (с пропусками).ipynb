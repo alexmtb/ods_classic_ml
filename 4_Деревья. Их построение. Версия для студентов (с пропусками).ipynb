{
 "cells": [
  {
   "cell_type": "code",
   "execution_count": null,
   "id": "194c2555-1613-4307-a60b-bf92bc5e59c4",
   "metadata": {
    "id": "194c2555-1613-4307-a60b-bf92bc5e59c4"
   },
   "outputs": [],
   "source": [
    "import warnings\n",
    "warnings.filterwarnings('ignore')\n",
    "\n",
    "import pandas as pd\n",
    "import numpy as np\n",
    "\n",
    "import seaborn as sns\n",
    "import matplotlib.pyplot as plt\n",
    "\n",
    "from sklearn.tree import DecisionTreeClassifier, DecisionTreeRegressor, plot_tree\n",
    "from sklearn.metrics import classification_report, roc_auc_score, mean_squared_error, mean_absolute_error, mean_absolute_percentage_error, r2_score\n",
    "from sklearn.model_selection import train_test_split, GridSearchCV\n",
    "from sklearn.preprocessing import StandardScaler, OneHotEncoder\n",
    "\n",
    "RANDOM_STATE = 42"
   ]
  },
  {
   "cell_type": "code",
   "execution_count": null,
   "id": "2697a971-5b82-43ce-b6c3-c550c389453e",
   "metadata": {
    "id": "2697a971-5b82-43ce-b6c3-c550c389453e"
   },
   "outputs": [],
   "source": [
    "def metrics_report(y_true, y_pred):\n",
    "    print(f'MSE: {mean_squared_error(y_true, y_pred)}')\n",
    "    print(f'R2: {r2_score(y_true, y_pred)}')\n",
    "    print(f'MAPE: {mean_absolute_percentage_error(y_true, y_pred)}')"
   ]
  },
  {
   "cell_type": "markdown",
   "id": "302f6b23-6382-492e-a13e-b4e539e8c791",
   "metadata": {
    "id": "302f6b23-6382-492e-a13e-b4e539e8c791",
    "jp-MarkdownHeadingCollapsed": true
   },
   "source": [
    "### Задание 1\n",
    "\n",
    "На последней лекции вы получили представление о том, как строятся и работают деревья решений. Пришло время закрепить новые знания на практике. Перед вами задача регрессии: имеется некоторая функция, которую необходимо восстановить. Напишите класс, который будет содержать в себе реализацию дерева решений. После этого постройте дерево для предложенной задачи, выполните предсказание и сравните с деревом из библиотеки `sklearn`. После этого выберите все правильные ответы"
   ]
  },
  {
   "cell_type": "code",
   "execution_count": null,
   "id": "6d6a2a3f-d628-400c-9048-f41adb1e52ff",
   "metadata": {
    "id": "6d6a2a3f-d628-400c-9048-f41adb1e52ff"
   },
   "outputs": [],
   "source": [
    "class RegressionTree():\n",
    "\n",
    "    \"\"\"\n",
    "    Данный класс содержит простейшую реализацию алгоритма решающего дерева для задачи регрессии.\n",
    "    \"\"\"\n",
    "\n",
    "    def __init__(self, max_depth=3):\n",
    "        # Здесь присходит инициализация полей класса, которые будут использоваться для построения дерева\n",
    "        self.max_depth = max_depth  # максимальная глубина дерева\n",
    "        self.value = np.nan  # значение в поддереве (среднее по всем листьям)\n",
    "        self.feature_number = -1  # номер лучшего признака\n",
    "        self.feature_value = np.nan  # значение разделителя\n",
    "        self.left = None  # левый потомок\n",
    "        self.right = None  # правый потомок\n",
    "\n",
    "\n",
    "    def __loss_function(self, y_true, y_pred):\n",
    "\n",
    "        \"\"\"\n",
    "        Функция потерь\n",
    "        \"\"\"\n",
    "\n",
    "        return ((y_true - y_pred)**2).sum()\n",
    "\n",
    "\n",
    "    # Из лекции вы знаете, что разделение выборки на каждом узле происходит так:\n",
    "    # перебираются все колонки, в каждой упорядочиваются значения и перебираются середины между соседними значениями.\n",
    "    # Лучшее разбиение - такое, которое приводит к минимизации следующей ошибки:\n",
    "    # error = (N_left * err_left + N_right * err_right) / N_node.\n",
    "    # Напишите метод __get_best_split(), который будет находить оптимальное разбиение выборки для текущего узла\n",
    "\n",
    "    def __get_best_split(self, X, y):\n",
    "\n",
    "        \"\"\"\n",
    "        Функция для поиска лучшего сплита (находит признак и значение для разделения).\n",
    "        \"\"\"\n",
    "\n",
    "        col_name = ''  # название признака, по которому будет происходить разбиение\n",
    "        split_value = np.nan  # значение разделителя\n",
    "\n",
    "        base_error = self.__loss_function(y, y.mean())  # начальная ошибка\n",
    "        best_error = base_error  # ошибка, которую надо минимизировать\n",
    "\n",
    "        N = X.shape[0]  # размер выборки\n",
    "\n",
    "        for col in X.columns:\n",
    "            # ваш код здесь\n",
    "\n",
    "\n",
    "        return col_name, split_value, best_error\n",
    "\n",
    "\n",
    "    def fit(self, X, y):\n",
    "\n",
    "        \"\"\"\n",
    "        Метод, отвечающий за обучение дерева. X - матрица \"объекты-признаки\", y - столбец значений целевой переменной.\n",
    "        \"\"\"\n",
    "\n",
    "        # Инициализируем начальные значения\n",
    "        self.value = y.mean()\n",
    "        base_error = self.__loss_function(y, self.value)\n",
    "        error = base_error\n",
    "\n",
    "        # Если дошли до глубины 1 - значит научили\n",
    "        if self.max_depth == 1:\n",
    "            return\n",
    "\n",
    "        dim_shape = X.shape[1]  # количество признаков\n",
    "\n",
    "        col_name, split_value, best_error = self.__get_best_split(X, y)\n",
    "\n",
    "        # Если сплита нет, то научили\n",
    "        if col_name == '':\n",
    "            return\n",
    "\n",
    "        col_index = X.columns.get_loc(col_name)\n",
    "\n",
    "        y_left = y[X[col_name] <= split_value]\n",
    "        y_right = y[X[col_name] > split_value]\n",
    "        X_left = X[X[col_name] <= split_value]\n",
    "        X_right = X[X[col_name] > split_value]\n",
    "\n",
    "        N1, N2 = X_left.shape[0], X_right.shape[0]\n",
    "\n",
    "        if best_error < error:\n",
    "            self.feature_number = col_index\n",
    "            self.feature_value = split_value\n",
    "            left_value = y_left.mean()\n",
    "            right_value = y_right.mean()\n",
    "\n",
    "            error = best_error\n",
    "        else:\n",
    "            return # Ошибку не можем уменьшить - значит научили\n",
    "\n",
    "        # Дошли сюда => есть хорошее разбиение, нужно обучать дальше => инициализируем потомков - те же деревья решений\n",
    "        self.left = RegressionTree(self.max_depth - 1)\n",
    "        self.left.value = left_value\n",
    "        self.right = RegressionTree(self.max_depth - 1)\n",
    "        self.right.value = right_value\n",
    "\n",
    "        # Обучаем\n",
    "        self.left.fit(X_left, y_left)\n",
    "        self.right.fit(X_right, y_right)\n",
    "\n",
    "\n",
    "    # Выше вы видели реализацию метода обучения дерева. Теперь пора подумать о выполнении предсказаний.\n",
    "    # Напишите простейший рекурсивный проход по дереву для выполнения предсказаний. База рекурсии уже в коде\n",
    "    def __predict(self, x):\n",
    "\n",
    "        '''\n",
    "         Метод для выполнения предсказания. Смотрим узлы, идем в соответствующих потомков и смотрим в конце self.value - это и будет ответом.\n",
    "        '''\n",
    "\n",
    "        if self.feature_number == -1:\n",
    "            return self.value\n",
    "\n",
    "        # ваш код здесь\n",
    "\n",
    "\n",
    "    def predict(self, X):\n",
    "\n",
    "        '''\n",
    "        Предсказание для матрицы - просто вызов __predict() для каждой строки.\n",
    "        '''\n",
    "\n",
    "        y = np.zeros(X.shape[0])\n",
    "\n",
    "        for i in range(X.shape[0]):\n",
    "            y[i] = self.__predict(X.iloc[i])\n",
    "\n",
    "        return y\n",
    "\n",
    "\n",
    "    def display(self):\n",
    "\n",
    "        \"\"\"\n",
    "        Метод, отвечающий за визуализацию дерева\n",
    "        \"\"\"\n",
    "\n",
    "        lines, *_ = self.__display_aux()\n",
    "\n",
    "        for line in lines:\n",
    "            print(line)\n",
    "\n",
    "\n",
    "    def __display_aux(self):\n",
    "\n",
    "        \"\"\"\n",
    "        Метод расчета координат узлов. Возвращает список строк, ширину, высоту и горизонтальную координату узла.\n",
    "        \"\"\"\n",
    "\n",
    "        # У вершины нет потомков\n",
    "        if self.right is None and self.left is None:\n",
    "            line = f'{round(self.feature_value, 4)}'\n",
    "            width = len(line)\n",
    "            height = 1\n",
    "            middle = width // 2\n",
    "            return [line], width, height, middle\n",
    "\n",
    "        # У вершины только левый потомок\n",
    "        if self.right is None:\n",
    "            lines, w, h, mid = self.left.__display_aux()\n",
    "            s = f'{round(self.feature_value, 4)}'\n",
    "            s_len = len(s)\n",
    "            first_line = (mid + 1) * ' ' + (w - mid - 1) * '_' + s\n",
    "            second_line = mid * ' ' + '/' + (w - mid - 1 + s_len) * ' '\n",
    "            shifted_lines = [line + s_len * ' ' for line in lines]\n",
    "            return [first_line, second_line] + shifted_lines, w + s_len, h + 2, w + s_len // 2\n",
    "\n",
    "        # У вершины только правый потомок\n",
    "        if self.left is None:\n",
    "            lines, w, h, mid = self.right.__display_aux()\n",
    "            s = f'{round(self.feature_value, 4)}'\n",
    "            s_len = len(s)\n",
    "            first_line = s + mid * '_' + (w - mid) * ' '\n",
    "            second_line = (s_len + mid) * ' ' + '\\\\' + (w - mid - 1) * ' '\n",
    "            shifted_lines = [s_len * ' ' + line for line in lines]\n",
    "            return [first_line, second_line] + shifted_lines, w + s_len, h + 2, s_len // 2\n",
    "\n",
    "        # У вершины есть оба потомка\n",
    "        left, w_left, h_left, mid_left = self.left.__display_aux()\n",
    "        right, w_right, h_right, mid_right = self.right.__display_aux()\n",
    "        s = f'{round(self.feature_value, 4)}'\n",
    "        s_len = len(s)\n",
    "        first_line = (mid_left + 1) * ' ' + (w_left - mid_left - 1) * '_' + s + mid_right * '_' + (w_right - mid_right) * ' '\n",
    "        second_line = mid_left * ' ' + '/' + (w_left - mid_left - 1 + s_len + mid_right) * ' ' + '\\\\' + (w_right - mid_right - 1) * ' '\n",
    "\n",
    "        if h_left < h_right:\n",
    "            left += [w_left * ' '] * (h_right - h_left)\n",
    "        elif h_right < h_left:\n",
    "            right += [w_right * ' '] * (h_left - h_right)\n",
    "\n",
    "        zipped_lines = zip(left, right)\n",
    "        lines = [first_line, second_line] + [a + s_len * ' ' + b for a, b in zipped_lines]\n",
    "\n",
    "        return lines, w_left + w_right + s_len, max(h_left, h_right) + 2, w_left + s_len // 2"
   ]
  },
  {
   "cell_type": "code",
   "execution_count": null,
   "id": "7baa33ca-0afd-4855-995e-f2e873cb4034",
   "metadata": {
    "executionInfo": {
     "elapsed": 0,
     "status": "aborted",
     "timestamp": 1741152228279,
     "user": {
      "displayName": "Ivan Komarov",
      "userId": "15572440089742707458"
     },
     "user_tz": -420
    },
    "id": "7baa33ca-0afd-4855-995e-f2e873cb4034"
   },
   "outputs": [],
   "source": [
    "# Создадим набор данных\n",
    "x = np.linspace(-np.pi, np.pi, num=100)\n",
    "\n",
    "rng = np.random.RandomState(RANDOM_STATE)\n",
    "noise = 2 * rng.uniform(0, 1, x.shape[0]) - 1\n",
    "\n",
    "y = 5 * np.sin(x)\n",
    "y += noise\n",
    "\n",
    "plt.scatter(x, y);"
   ]
  },
  {
   "cell_type": "code",
   "execution_count": null,
   "id": "7444068a-fe20-45a5-8588-31a7d450589b",
   "metadata": {
    "executionInfo": {
     "elapsed": 0,
     "status": "aborted",
     "timestamp": 1741152228296,
     "user": {
      "displayName": "Ivan Komarov",
      "userId": "15572440089742707458"
     },
     "user_tz": -420
    },
    "id": "7444068a-fe20-45a5-8588-31a7d450589b"
   },
   "outputs": [],
   "source": [
    "# Создайте датафрейм из двух колонок: x и y. Данные возьмите из предыдущей ячейки\n",
    "data = # ваш код здесь"
   ]
  },
  {
   "cell_type": "code",
   "execution_count": null,
   "id": "9bf607d4-86e2-4914-a1d9-d3f71bb07101",
   "metadata": {
    "executionInfo": {
     "elapsed": 302,
     "status": "aborted",
     "timestamp": 1741152228299,
     "user": {
      "displayName": "Ivan Komarov",
      "userId": "15572440089742707458"
     },
     "user_tz": -420
    },
    "id": "9bf607d4-86e2-4914-a1d9-d3f71bb07101"
   },
   "outputs": [],
   "source": [
    "# Создайте дерево из класса RegressionTree() глубины 4 и дерево из sklearn\n",
    "# ВАЖНО! Дерево из sklearn должно иметь глубину на 1 меньше, чем наше, так как глубина в sklearn считается по количеству ребер,\n",
    "# а в нашем дереве - по количеству вершин\n",
    "my_tree = # ваш код здесь\n",
    "sklearn_tree = DecisionTreeRegressor(max_depth=3, random_state=RANDOM_STATE)"
   ]
  },
  {
   "cell_type": "code",
   "execution_count": null,
   "id": "13076f70-38c8-4c5d-bb92-b21756a6370b",
   "metadata": {
    "executionInfo": {
     "elapsed": 316,
     "status": "aborted",
     "timestamp": 1741152228314,
     "user": {
      "displayName": "Ivan Komarov",
      "userId": "15572440089742707458"
     },
     "user_tz": -420
    },
    "id": "13076f70-38c8-4c5d-bb92-b21756a6370b"
   },
   "outputs": [],
   "source": [
    "# Обучите оба дерева.\n",
    "# ВАЖНО! В качестве X нужно подавать не pd.Series(), а именно pd.DataFrame(). Сделать это можно так: data[['x']]\n",
    "# ваш код здесь"
   ]
  },
  {
   "cell_type": "code",
   "execution_count": null,
   "id": "cca5cdf3-921d-43eb-ae79-d5dc55147fbd",
   "metadata": {
    "executionInfo": {
     "elapsed": 316,
     "status": "aborted",
     "timestamp": 1741152228315,
     "user": {
      "displayName": "Ivan Komarov",
      "userId": "15572440089742707458"
     },
     "user_tz": -420
    },
    "id": "cca5cdf3-921d-43eb-ae79-d5dc55147fbd"
   },
   "outputs": [],
   "source": [
    "# Выполните предсказания на тех же данных (data[['x']])\n",
    "my_pred = # ваш код здесь\n",
    "sklearn_pred = # ваш код здесь"
   ]
  },
  {
   "cell_type": "code",
   "execution_count": null,
   "id": "ed3f9f64-72f1-4732-867c-b873df91d6ff",
   "metadata": {
    "executionInfo": {
     "elapsed": 316,
     "status": "aborted",
     "timestamp": 1741152228315,
     "user": {
      "displayName": "Ivan Komarov",
      "userId": "15572440089742707458"
     },
     "user_tz": -420
    },
    "id": "ed3f9f64-72f1-4732-867c-b873df91d6ff"
   },
   "outputs": [],
   "source": [
    "# Рассчитайте метрики для обоих деревьев, вызвав функцию metrics_report()\n",
    "# ваш код здесь"
   ]
  },
  {
   "cell_type": "code",
   "execution_count": null,
   "id": "62248cc0-fef4-4b78-a896-e2be4de94c88",
   "metadata": {
    "id": "62248cc0-fef4-4b78-a896-e2be4de94c88"
   },
   "outputs": [],
   "source": [
    "# Постройте график предсказаний и сравните их между собой\n",
    "plt.figure(figsize=(15, 10))\n",
    "plt.scatter(x, y, c='blue', alpha=0.3, marker='.', label='truth points')\n",
    "plt.scatter(x, my_pred, c='red', marker='.', label='my prediction')\n",
    "plt.scatter(x, sklearn_pred, c='green', marker='.', label='sklearn prediction')\n",
    "plt.xlabel('X')\n",
    "plt.ylabel('y')\n",
    "plt.title('mine and sklearn predictions compared')\n",
    "plt.legend();"
   ]
  },
  {
   "cell_type": "code",
   "execution_count": null,
   "id": "f74a28ad-aafc-449f-8709-ba12a0286c3a",
   "metadata": {
    "id": "f74a28ad-aafc-449f-8709-ba12a0286c3a"
   },
   "outputs": [],
   "source": [
    "# Визуализируйте дерево из sklearn, изучите его структуру\n",
    "fig = plt.figure(figsize=(25,20))\n",
    "_ = plot_tree(sklearn_tree,\n",
    "                   feature_names=['x'],\n",
    "                   filled=True)"
   ]
  },
  {
   "cell_type": "code",
   "execution_count": null,
   "id": "d9e90c48-6ca8-4eb1-a883-2e55a3ae62e9",
   "metadata": {
    "id": "d9e90c48-6ca8-4eb1-a883-2e55a3ae62e9"
   },
   "outputs": [],
   "source": [
    "# Визуализируйте ваше дерево с помощью метода display() и изучите его структуру. Ответьте на вопросы\n",
    "# ваш код здесь"
   ]
  },
  {
   "cell_type": "markdown",
   "id": "b8ad2285-269a-4d20-8350-7aff758a52c4",
   "metadata": {
    "id": "b8ad2285-269a-4d20-8350-7aff758a52c4",
    "jp-MarkdownHeadingCollapsed": true
   },
   "source": [
    "### Задание 2\n",
    "\n",
    "Деревья склонны к переобучению, так как они при возможности достаточного роста просто запоминают обучающую выборку. Одной из техник борьбы с переобучением является обрезка деревьев. Здесь возможен один из двух вариантов: ранняя остановка при обучении или построение максимально полного дерева с последующим \"отсечением\" малополезных ветвей (тех, которые незначительно уменьшают ошибку). В данном задании мы будем рассматривать только обрезку второго типа.\n",
    "\n",
    "Имеется набор данных... Допишите реализованный ранее класс `RegressionTree()`, добавив в него метод `prunning()`, который осуществляет обрезку дерева, начиная с самых нижних вершин и кончая корнем. После этого обучите дерево на имеющихся данных и проведите его обрезку. Сравните полученные результаты с результатами полного дерева. Выберите все правильные ответы"
   ]
  },
  {
   "cell_type": "code",
   "execution_count": null,
   "id": "7695d6a4-34ee-4808-bbb4-c48c849ac441",
   "metadata": {
    "id": "7695d6a4-34ee-4808-bbb4-c48c849ac441"
   },
   "outputs": [
    {
     "data": {
      "image/png": "[encoded data removed]",
      "text/plain": [
       "<Figure size 500x300 with 1 Axes>"
      ]
     },
     "metadata": {},
     "output_type": "display_data"
    }
   ],
   "source": [
    "# Создадим новый набор данных для обучения\n",
    "x = np.linspace(-np.pi, np.pi, num=40)\n",
    "\n",
    "rng = np.random.RandomState(RANDOM_STATE)\n",
    "noise = 2 * rng.uniform(0, 1, x.shape[0]) - 1\n",
    "\n",
    "y = 5 * np.sin(x)\n",
    "y += noise\n",
    "\n",
    "plt.scatter(x, y);"
   ]
  },
  {
   "cell_type": "code",
   "execution_count": null,
   "id": "004c41be-c132-4b8a-a857-cf118e94ca95",
   "metadata": {
    "id": "004c41be-c132-4b8a-a857-cf118e94ca95"
   },
   "outputs": [
    {
     "data": {
      "text/html": [
       "<div>\n",
       "<style scoped>\n",
       "    .dataframe tbody tr th:only-of-type {\n",
       "        vertical-align: middle;\n",
       "    }\n",
       "\n",
       "    .dataframe tbody tr th {\n",
       "        vertical-align: top;\n",
       "    }\n",
       "\n",
       "    .dataframe thead th {\n",
       "        text-align: right;\n",
       "    }\n",
       "</style>\n",
       "<table border=\"1\" class=\"dataframe\">\n",
       "  <thead>\n",
       "    <tr style=\"text-align: right;\">\n",
       "      <th></th>\n",
       "      <th>x</th>\n",
       "      <th>y</th>\n",
       "    </tr>\n",
       "  </thead>\n",
       "  <tbody>\n",
       "    <tr>\n",
       "      <th>0</th>\n",
       "      <td>-3.141593</td>\n",
       "      <td>-0.250920</td>\n",
       "    </tr>\n",
       "    <tr>\n",
       "      <th>1</th>\n",
       "      <td>-2.980485</td>\n",
       "      <td>0.099372</td>\n",
       "    </tr>\n",
       "    <tr>\n",
       "      <th>2</th>\n",
       "      <td>-2.819378</td>\n",
       "      <td>-1.119352</td>\n",
       "    </tr>\n",
       "  </tbody>\n",
       "</table>\n",
       "</div>"
      ],
      "text/plain": [
       "          x         y\n",
       "0 -3.141593 -0.250920\n",
       "1 -2.980485  0.099372\n",
       "2 -2.819378 -1.119352"
      ]
     },
     "execution_count": 8,
     "metadata": {},
     "output_type": "execute_result"
    }
   ],
   "source": [
    "data = pd.DataFrame({'x': x, 'y': y})\n",
    "data.head()"
   ]
  },
  {
   "cell_type": "code",
   "execution_count": null,
   "id": "KISGOtKGEkqP",
   "metadata": {
    "id": "KISGOtKGEkqP"
   },
   "outputs": [],
   "source": [
    "class RegressionTreePrunning():\n",
    "\n",
    "    \"\"\"\n",
    "    Данный класс содержит простейшую реализацию алгоритма решающего дерева для задачи регрессии.\n",
    "    \"\"\"\n",
    "\n",
    "    def __init__(self, max_depth=3):\n",
    "        self.max_depth = max_depth  # максимальная глубина дерева\n",
    "        self.value = np.nan  # значение в поддереве (среднее по всем листьям)\n",
    "        self.feature_number = -1  # номер лучшего признака\n",
    "        self.feature_value = np.nan  # значение разделителя\n",
    "        self.left = None  # левый потомок\n",
    "        self.right = None  # правый потомок\n",
    "\n",
    "        self.error = 0  # значение ошибки при обучении\n",
    "\n",
    "\n",
    "    def __loss_function(self, y_true, y_pred):\n",
    "\n",
    "        \"\"\"\n",
    "        Функция потерь\n",
    "        \"\"\"\n",
    "\n",
    "        return ((y_true - y_pred)**2).sum() # / y_true.shape[0]\n",
    "        # return (y_true - y_pred).abs().sum()\n",
    "\n",
    "\n",
    "    def __get_best_split(self, X, y):\n",
    "\n",
    "        \"\"\"\n",
    "        Функция для поиска лучшего сплита (находит признак и значение для разделения).\n",
    "        \"\"\"\n",
    "\n",
    "        col_name = ''\n",
    "        split_value = np.nan\n",
    "\n",
    "        base_error = self.__loss_function(y, y.mean())\n",
    "        # base_error = self.__loss_function(y, y.median())\n",
    "        best_error = base_error\n",
    "\n",
    "        N = X.shape[0]\n",
    "\n",
    "        for col in X.columns:\n",
    "            values = X[col].sort_values()\n",
    "            means = [np.mean([values.iloc[i], values.iloc[i+1]]) for i in range(N - 1)]\n",
    "\n",
    "            for sep in means:\n",
    "                group1_index = X[X[col] > sep][col].index\n",
    "                group2_index = X[X[col] <= sep][col].index\n",
    "\n",
    "                N1, N2 = group1_index.shape[0], group2_index.shape[0]\n",
    "                if N1 == 0 or N2 == 0:\n",
    "                    continue\n",
    "                err1 = self.__loss_function(y[group1_index], y[group1_index].mean())\n",
    "                err2 = self.__loss_function(y[group2_index], y[group2_index].mean())\n",
    "                #err1 = self.__loss_function(y[group1_index], y[group1_index].median())\n",
    "                #err2 = self.__loss_function(y[group2_index], y[group2_index].median())\n",
    "                error = (N1 * err1 + N2 * err2) / N\n",
    "                #error = (err1 + err2)\n",
    "\n",
    "                if error < best_error:\n",
    "                    col_name = col\n",
    "                    split_value = sep\n",
    "                    best_error = error\n",
    "\n",
    "\n",
    "        return col_name, split_value, best_error\n",
    "\n",
    "\n",
    "    def fit(self, X, y):\n",
    "\n",
    "        \"\"\"\n",
    "        Метод, отвечающий за обучение дерева. X - матрица \"объекты-признаки\", y - столбец значений целевой переменной.\n",
    "        \"\"\"\n",
    "\n",
    "        # Инициализируем начальные значения\n",
    "        self.value = y.mean()\n",
    "        # self.value = y.median()\n",
    "        base_error = self.__loss_function(y, self.value)\n",
    "        error = base_error\n",
    "\n",
    "        # Если дошли до глубины 1 - выходим\n",
    "        if self.max_depth == 1:\n",
    "            return\n",
    "\n",
    "        dim_shape = X.shape[1]  # количество признаков\n",
    "\n",
    "        # Значения в левом и правом поддереве\n",
    "        # left_value = np.nan\n",
    "        # right_value = np.nan\n",
    "\n",
    "        col_name, split_value, best_error = self.__get_best_split(X, y)\n",
    "\n",
    "        if col_name == '': # Если не нашли лучший сплит, выходим\n",
    "            return\n",
    "\n",
    "        col_index = X.columns.get_loc(col_name)\n",
    "\n",
    "        y_left = y[X[col_name] <= split_value]\n",
    "        y_right = y[X[col_name] > split_value]\n",
    "        X_left = X[X[col_name] <= split_value]\n",
    "        X_right = X[X[col_name] > split_value]\n",
    "\n",
    "        N1, N2 = X_left.shape[0], X_right.shape[0]\n",
    "\n",
    "        if best_error < error:\n",
    "            self.feature_number = col_index\n",
    "            self.feature_value = split_value\n",
    "            left_value = y_left.mean()\n",
    "            #left_value = y_left.median()\n",
    "            right_value = y_right.mean()\n",
    "            #right_value = y_right.median()\n",
    "            error = best_error\n",
    "\n",
    "        else: # Если нет улучшения, выходим\n",
    "            return\n",
    "\n",
    "        self.error = error # Запомним ошибку\n",
    "\n",
    "        # Дошли сюда => есть хорошее разбиение, нужно обучать дальше => инициализируем потомков - те же деревья решений\n",
    "        self.left = RegressionTreePrunning(self.max_depth - 1)\n",
    "        self.left.value = left_value\n",
    "        self.right = RegressionTreePrunning(self.max_depth - 1)\n",
    "        self.right.value = right_value\n",
    "\n",
    "        # Обучаем\n",
    "        self.left.fit(X_left, y_left)\n",
    "        self.right.fit(X_right, y_right)\n",
    "\n",
    "\n",
    "    def __predict(self, x):\n",
    "\n",
    "        '''\n",
    "         Метод для выполнения предсказания. Смотрим узлы, идем в соответствующих потомков и смотрим в конце self.value - это и будет ответом.\n",
    "        '''\n",
    "\n",
    "        if self.feature_number == -1:\n",
    "            return self.value\n",
    "\n",
    "        if x[self.feature_number] <= self.feature_value:\n",
    "            return self.left.__predict(x)\n",
    "        else:\n",
    "            return self.right.__predict(x)\n",
    "\n",
    "\n",
    "    def predict(self, X):\n",
    "\n",
    "        '''\n",
    "        Предсказание для матрицы - просто вызов __predict() для каждой строки.\n",
    "        '''\n",
    "\n",
    "        y = np.zeros(X.shape[0])\n",
    "\n",
    "        for i in range(X.shape[0]):\n",
    "            y[i] = self.__predict(X.iloc[i])\n",
    "\n",
    "        return y\n",
    "\n",
    "    def prunning(self, eps=0.1):\n",
    "\n",
    "        \"\"\"\n",
    "        Метод, выполняющий обрезку дерева при обратном обходе.\n",
    "        \"\"\"\n",
    "\n",
    "        # Напишите метод, выполняющий обрезку дерева.\n",
    "        # ВАЖНО! Обрезка должна осуществляться при обратном обходе дерева, то есть от нижних вершин к корню\n",
    "        # Если ошибка при каком-то переходе меняется слабо (то есть разность ошибок меньше eps), то необходимо обрезать этого потомка\n",
    "        # ваш код здесь\n",
    "        # Base case: if we're at a leaf node, return the node's error\n",
    "        if self.feature_number == -1:\n",
    "            return self.error\n",
    "\n",
    "        # Recursively prune left and right subtrees if they exist\n",
    "        if self.left:\n",
    "            left_error = self.left.prunning(eps)\n",
    "        if self.right:\n",
    "            right_error = self.right.prunning(eps)\n",
    "\n",
    "        # Calculate the current node's error\n",
    "        current_error = self.error\n",
    "\n",
    "        # If we have both children, check if pruning would improve the error\n",
    "        if self.left and self.right:\n",
    "            # Calculate error difference between current node and its children\n",
    "            children_error = left_error + right_error\n",
    "            error_diff = abs(current_error - children_error)\n",
    "\n",
    "            # If error difference is small enough, prune the children\n",
    "            if error_diff < eps:\n",
    "                self.left = None\n",
    "                self.right = None\n",
    "                self.feature_number = -1\n",
    "\n",
    "        return current_error\n",
    "\n",
    "\n",
    "    def display(self):\n",
    "\n",
    "        \"\"\"\n",
    "        Метод, отвечающий за визуализацию дерева\n",
    "        \"\"\"\n",
    "\n",
    "        lines, *_ = self.__display_aux()\n",
    "        for line in lines:\n",
    "            print(line)\n",
    "\n",
    "\n",
    "    def __display_aux(self):\n",
    "\n",
    "        \"\"\"\n",
    "        Метод расчета координат узлов. Возвращает список строк, ширину, высоту и горизонтальную координату узла.\n",
    "        \"\"\"\n",
    "\n",
    "        # У вершины нет потомков\n",
    "        if self.right is None and self.left is None:\n",
    "            line = f'{round(self.feature_value, 4)}'\n",
    "            width = len(line)\n",
    "            height = 1\n",
    "            middle = width // 2\n",
    "            return [line], width, height, middle\n",
    "\n",
    "        # У вершины только левый потомок\n",
    "        if self.right is None:\n",
    "            lines, w, h, mid = self.left.__display_aux()\n",
    "            s = f'{round(self.feature_value, 4)}'\n",
    "            s_len = len(s)\n",
    "            first_line = (mid + 1) * ' ' + (w - mid - 1) * '_' + s\n",
    "            second_line = mid * ' ' + '/' + (w - mid - 1 + s_len) * ' '\n",
    "            shifted_lines = [line + s_len * ' ' for line in lines]\n",
    "            return [first_line, second_line] + shifted_lines, w + s_len, h + 2, w + s_len // 2\n",
    "\n",
    "        # У вершины только правый потомок\n",
    "        if self.left is None:\n",
    "            lines, w, h, mid = self.right.__display_aux()\n",
    "            s = f'{round(self.feature_value, 4)}'\n",
    "            s_len = len(s)\n",
    "            first_line = s + mid * '_' + (w - mid) * ' '\n",
    "            second_line = (s_len + mid) * ' ' + '\\\\' + (w - mid - 1) * ' '\n",
    "            shifted_lines = [s_len * ' ' + line for line in lines]\n",
    "            return [first_line, second_line] + shifted_lines, w + s_len, h + 2, s_len // 2\n",
    "\n",
    "        # У вершины есть оба потомка\n",
    "        left, w_left, h_left, mid_left = self.left.__display_aux()\n",
    "        right, w_right, h_right, mid_right = self.right.__display_aux()\n",
    "        s = f'{round(self.feature_value, 4)}'\n",
    "        s_len = len(s)\n",
    "        first_line = (mid_left + 1) * ' ' + (w_left - mid_left - 1) * '_' + s + mid_right * '_' + (w_right - mid_right) * ' '\n",
    "        second_line = mid_left * ' ' + '/' + (w_left - mid_left - 1 + s_len + mid_right) * ' ' + '\\\\' + (w_right - mid_right - 1) * ' '\n",
    "\n",
    "        if h_left < h_right:\n",
    "            left += [w_left * ' '] * (h_right - h_left)\n",
    "        elif h_right < h_left:\n",
    "            right += [w_right * ' '] * (h_left - h_right)\n",
    "\n",
    "        zipped_lines = zip(left, right)\n",
    "        lines = [first_line, second_line] + [a + s_len * ' ' + b for a, b in zipped_lines]\n",
    "\n",
    "        return lines, w_left + w_right + s_len, max(h_left, h_right) + 2, w_left + s_len // 2"
   ]
  },
  {
   "cell_type": "markdown",
   "id": "7bc9db33-e70c-4c51-b29e-5565eece822a",
   "metadata": {
    "id": "7bc9db33-e70c-4c51-b29e-5565eece822a"
   },
   "source": [
    "Для начала создадим дерево глубины 5 и обучим его на имеющемся наборе данных. После чего выполним предсказания на нем же и рассчитаем MSE"
   ]
  },
  {
   "cell_type": "code",
   "execution_count": 26,
   "id": "2187490e-750e-454a-a974-34c2365f68da",
   "metadata": {
    "id": "2187490e-750e-454a-a974-34c2365f68da"
   },
   "outputs": [
    {
     "name": "stdout",
     "output_type": "stream",
     "text": [
      "MSE: 0.21221187209850445\n",
      "R2: 0.9830514894515942\n",
      "MAPE: 0.11551012931286886\n"
     ]
    }
   ],
   "source": [
    "# Создайте дерево с max_depth=5 и обучите его на имеющемся наборе данных, выполните предсказания и рассчитайте MSE\n",
    "\n",
    "prunned_tree = RegressionTreePrunning(max_depth=5)\n",
    "# ваш код здесь\n",
    "prunned_tree.fit(data[['x']], data['y'])\n",
    "tree_pred = prunned_tree.predict(data[['x']])\n",
    "metrics_report(data['y'], tree_pred)"
   ]
  },
  {
   "cell_type": "code",
   "execution_count": 27,
   "id": "b3b8e6ef",
   "metadata": {},
   "outputs": [
    {
     "name": "stdout",
     "output_type": "stream",
     "text": [
      "                                    ____________________________________-0.0_________________________________                                \n",
      "                                   /                                                                         \\                               \n",
      "                ________________-2.5777________________                                     ______________2.4166_______________              \n",
      "               /                                       \\                                   /                                   \\             \n",
      "       _____-2.8999______                     ______-0.6444______                  _____0.6444______                   _____2.7388_____      \n",
      "      /                  \\                   /                   \\                /                 \\                 /                \\     \n",
      "  _-3.061_           _-2.7388_           _-1.6111_           _-0.3222_        _0.3222_          _1.1278_          _2.5777_          _3.061_  \n",
      " /        \\         /         \\         /         \\         /         \\      /        \\        /        \\        /        \\        /       \\ \n",
      "nan      nan       nan       nan       nan       nan       nan       nan    nan      nan      nan      nan      nan      nan      nan     nan\n"
     ]
    }
   ],
   "source": [
    "prunned_tree.display()"
   ]
  },
  {
   "cell_type": "code",
   "execution_count": 28,
   "id": "956798dc-03f4-47dc-8575-5f7b5a02bafe",
   "metadata": {
    "id": "956798dc-03f4-47dc-8575-5f7b5a02bafe"
   },
   "outputs": [
    {
     "data": {
      "image/png": "[encoded data removed]",
      "text/plain": [
       "<Figure size 500x300 with 1 Axes>"
      ]
     },
     "metadata": {},
     "output_type": "display_data"
    }
   ],
   "source": [
    "# Создайте тестовый набор данных\n",
    "x_test = np.linspace(-np.pi, np.pi, num=10)\n",
    "\n",
    "rng_test = np.random.RandomState(RANDOM_STATE + 1)\n",
    "noise_test = 2 * rng_test.uniform(0, 1, x_test.shape[0]) - 1\n",
    "\n",
    "y_test = 5 * np.sin(x_test)\n",
    "y_test += noise_test\n",
    "\n",
    "plt.figure(figsize=(5,3))\n",
    "plt.scatter(x_test, y_test);"
   ]
  },
  {
   "cell_type": "code",
   "execution_count": 29,
   "id": "37232c7a-0f89-443b-a11b-b351d8783e05",
   "metadata": {
    "id": "37232c7a-0f89-443b-a11b-b351d8783e05"
   },
   "outputs": [
    {
     "data": {
      "text/html": [
       "<div>\n",
       "<style scoped>\n",
       "    .dataframe tbody tr th:only-of-type {\n",
       "        vertical-align: middle;\n",
       "    }\n",
       "\n",
       "    .dataframe tbody tr th {\n",
       "        vertical-align: top;\n",
       "    }\n",
       "\n",
       "    .dataframe thead th {\n",
       "        text-align: right;\n",
       "    }\n",
       "</style>\n",
       "<table border=\"1\" class=\"dataframe\">\n",
       "  <thead>\n",
       "    <tr style=\"text-align: right;\">\n",
       "      <th></th>\n",
       "      <th>x</th>\n",
       "      <th>y</th>\n",
       "    </tr>\n",
       "  </thead>\n",
       "  <tbody>\n",
       "    <tr>\n",
       "      <th>0</th>\n",
       "      <td>-3.141593</td>\n",
       "      <td>-0.769891</td>\n",
       "    </tr>\n",
       "    <tr>\n",
       "      <th>1</th>\n",
       "      <td>-2.443461</td>\n",
       "      <td>-2.995805</td>\n",
       "    </tr>\n",
       "    <tr>\n",
       "      <th>2</th>\n",
       "      <td>-1.745329</td>\n",
       "      <td>-5.657257</td>\n",
       "    </tr>\n",
       "    <tr>\n",
       "      <th>3</th>\n",
       "      <td>-1.047198</td>\n",
       "      <td>-4.848948</td>\n",
       "    </tr>\n",
       "    <tr>\n",
       "      <th>4</th>\n",
       "      <td>-0.349066</td>\n",
       "      <td>-2.055823</td>\n",
       "    </tr>\n",
       "  </tbody>\n",
       "</table>\n",
       "</div>"
      ],
      "text/plain": [
       "          x         y\n",
       "0 -3.141593 -0.769891\n",
       "1 -2.443461 -2.995805\n",
       "2 -1.745329 -5.657257\n",
       "3 -1.047198 -4.848948\n",
       "4 -0.349066 -2.055823"
      ]
     },
     "execution_count": 29,
     "metadata": {},
     "output_type": "execute_result"
    }
   ],
   "source": [
    "test = pd.DataFrame({'x': x_test, 'y': y_test})\n",
    "test.head()"
   ]
  },
  {
   "cell_type": "code",
   "execution_count": 30,
   "id": "56a0eec2-a5fa-4623-98e4-bebb85aa5fe3",
   "metadata": {
    "id": "56a0eec2-a5fa-4623-98e4-bebb85aa5fe3"
   },
   "outputs": [
    {
     "name": "stdout",
     "output_type": "stream",
     "text": [
      "MSE: 0.7408928838913453\n",
      "R2: 0.9417384224351789\n",
      "MAPE: 0.3936883789847765\n"
     ]
    }
   ],
   "source": [
    "# Выполните предсказания на test и выведите MSE\n",
    "# ваш код здесь\n",
    "\n",
    "test_pred = prunned_tree.predict(test[['x']])\n",
    "metrics_report(test['y'], test_pred)"
   ]
  },
  {
   "cell_type": "code",
   "execution_count": 31,
   "id": "c8f0e7c6-e9c0-4e14-a9a7-33eae95ba18a",
   "metadata": {
    "id": "c8f0e7c6-e9c0-4e14-a9a7-33eae95ba18a"
   },
   "outputs": [
    {
     "name": "stdout",
     "output_type": "stream",
     "text": [
      "           ____________________________________-0.0___________________________                    \n",
      "          /                                                                   \\                   \n",
      "    ___-2.5777________________                               ______________2.4166_________        \n",
      "   /                          \\                             /                             \\       \n",
      "-2.8999              ______-0.6444______               __0.6444______                __2.7388__   \n",
      "                    /                   \\             /              \\              /          \\  \n",
      "                _-1.6111_           _-0.3222_      0.3222        _1.1278_        2.5777      3.061\n",
      "               /         \\         /         \\                  /        \\                        \n",
      "              nan       nan       nan       nan                nan      nan                       \n"
     ]
    }
   ],
   "source": [
    "# Теперь проведите обрезку дерева с помощью метода prunning() с eps=0.3. Визуализируйте полученное дерево\n",
    "# ваш код здесь\n",
    "prunned_tree.prunning(eps=0.3)\n",
    "prunned_tree.display()"
   ]
  },
  {
   "cell_type": "code",
   "execution_count": 24,
   "id": "f24cb311-0fe1-4187-a8ea-4fa2cd8aa8dc",
   "metadata": {
    "id": "f24cb311-0fe1-4187-a8ea-4fa2cd8aa8dc"
   },
   "outputs": [
    {
     "name": "stdout",
     "output_type": "stream",
     "text": [
      "MSE: 0.641042857473794\n",
      "R2: 0.9495903267866165\n",
      "MAPE: 0.2336128496665569\n"
     ]
    }
   ],
   "source": [
    "# Выполните предсказания обрезанным деревом на тестовой выборке и выведите MSE. Сравните с MSE полного дерева. Сдайте ответ в форме\n",
    "# ваш код здесь\n",
    "prun_pred = prunned_tree.predict(test[['x']])\n",
    "metrics_report(test['y'], prun_pred)"
   ]
  },
  {
   "cell_type": "markdown",
   "id": "a09b92c2-a0dc-49c5-aab4-b5e010506fd9",
   "metadata": {
    "id": "a09b92c2-a0dc-49c5-aab4-b5e010506fd9",
    "jp-MarkdownHeadingCollapsed": true
   },
   "source": [
    "### Задание 3\n",
    "\n",
    "Это задание посвящено изучению влияния выбора функции потерь (MAE, MSE) на результат обучения дерева. Имеется набор данных. Необходимо обучить два дерева: одно с MSE в качестве функции потерь, а другое - с MAE, затем сравнить результаты"
   ]
  },
  {
   "cell_type": "code",
   "execution_count": 33,
   "id": "afd77c45-8ebb-4f0e-92f6-5b5b4834171f",
   "metadata": {
    "id": "afd77c45-8ebb-4f0e-92f6-5b5b4834171f"
   },
   "outputs": [
    {
     "data": {
      "image/png": "[encoded data removed]",
      "text/plain": [
       "<Figure size 600x300 with 1 Axes>"
      ]
     },
     "metadata": {},
     "output_type": "display_data"
    }
   ],
   "source": [
    "# Создадим набор данных\n",
    "x_rng = np.random.RandomState(RANDOM_STATE+2)\n",
    "x = x_rng.poisson(lam=5, size=100).astype('float')\n",
    "x_noise = 2 * x_rng.uniform(0, 1, x.shape[0]) - 1\n",
    "x += x_noise\n",
    "\n",
    "y = 5 * np.sin(x)\n",
    "y_rng = np.random.RandomState(RANDOM_STATE+3)\n",
    "y_noise = 2 * y_rng.uniform(0, 1, y.shape[0]) - 1\n",
    "y += y_noise\n",
    "\n",
    "plt.figure(figsize=(6,3))\n",
    "plt.scatter(x, y, marker='.');"
   ]
  },
  {
   "cell_type": "code",
   "execution_count": 34,
   "id": "43b21db8-f52c-4fbb-87e8-1921fa4fd33d",
   "metadata": {
    "id": "43b21db8-f52c-4fbb-87e8-1921fa4fd33d"
   },
   "outputs": [
    {
     "data": {
      "text/html": [
       "<div>\n",
       "<style scoped>\n",
       "    .dataframe tbody tr th:only-of-type {\n",
       "        vertical-align: middle;\n",
       "    }\n",
       "\n",
       "    .dataframe tbody tr th {\n",
       "        vertical-align: top;\n",
       "    }\n",
       "\n",
       "    .dataframe thead th {\n",
       "        text-align: right;\n",
       "    }\n",
       "</style>\n",
       "<table border=\"1\" class=\"dataframe\">\n",
       "  <thead>\n",
       "    <tr style=\"text-align: right;\">\n",
       "      <th></th>\n",
       "      <th>x</th>\n",
       "      <th>y</th>\n",
       "    </tr>\n",
       "  </thead>\n",
       "  <tbody>\n",
       "    <tr>\n",
       "      <th>0</th>\n",
       "      <td>5.907495</td>\n",
       "      <td>-0.856550</td>\n",
       "    </tr>\n",
       "    <tr>\n",
       "      <th>1</th>\n",
       "      <td>7.487436</td>\n",
       "      <td>4.766943</td>\n",
       "    </tr>\n",
       "    <tr>\n",
       "      <th>2</th>\n",
       "      <td>7.071460</td>\n",
       "      <td>3.108582</td>\n",
       "    </tr>\n",
       "    <tr>\n",
       "      <th>3</th>\n",
       "      <td>6.637129</td>\n",
       "      <td>0.887577</td>\n",
       "    </tr>\n",
       "    <tr>\n",
       "      <th>4</th>\n",
       "      <td>2.997531</td>\n",
       "      <td>0.606758</td>\n",
       "    </tr>\n",
       "  </tbody>\n",
       "</table>\n",
       "</div>"
      ],
      "text/plain": [
       "          x         y\n",
       "0  5.907495 -0.856550\n",
       "1  7.487436  4.766943\n",
       "2  7.071460  3.108582\n",
       "3  6.637129  0.887577\n",
       "4  2.997531  0.606758"
      ]
     },
     "execution_count": 34,
     "metadata": {},
     "output_type": "execute_result"
    }
   ],
   "source": [
    "data = pd.DataFrame({'x': x, 'y': y})\n",
    "data.head()"
   ]
  },
  {
   "cell_type": "code",
   "execution_count": 36,
   "id": "720a4ff0-8946-478a-be10-fc07f8996b3a",
   "metadata": {
    "id": "720a4ff0-8946-478a-be10-fc07f8996b3a"
   },
   "outputs": [
    {
     "data": {
      "text/plain": [
       "15     7.328150\n",
       "40     7.516276\n",
       "96     5.896746\n",
       "9      4.851961\n",
       "72     5.437866\n",
       "        ...    \n",
       "60     3.499835\n",
       "71     9.259477\n",
       "14     1.189336\n",
       "92    10.144700\n",
       "51     4.878434\n",
       "Name: x, Length: 75, dtype: float64"
      ]
     },
     "execution_count": 36,
     "metadata": {},
     "output_type": "execute_result"
    }
   ],
   "source": [
    "# Разделите данные на тренировочную и тестовую выборки. Размер тестовой выборки - 25%, не забывайте про random_state\n",
    "# ВАЖНО! X_train и X_test должны быть датафреймами\n",
    "X_train, X_test, y_train, y_test = train_test_split(data['x'], data['y'], random_state=RANDOM_STATE) # ваш код здесь\n",
    "X_train"
   ]
  },
  {
   "cell_type": "code",
   "execution_count": null,
   "id": "e9b9c976-644d-4528-9f6f-ac285bc44ead",
   "metadata": {
    "id": "e9b9c976-644d-4528-9f6f-ac285bc44ead"
   },
   "outputs": [],
   "source": [
    "# Создайте дерево с max_depth=4, обучите его, выполните обрезку, а затем предскажите на тестовой выборке. Выведите RMSE и MAE\n",
    "mse_tree = # ваш код здесь\n",
    "# ваш код здесь\n",
    "mse_tree_pred = # ваш код здесь\n",
    "# ваш код здесь"
   ]
  },
  {
   "cell_type": "code",
   "execution_count": null,
   "id": "c0713b0c-4030-44e9-bb85-4ac7b1156baf",
   "metadata": {
    "id": "c0713b0c-4030-44e9-bb85-4ac7b1156baf"
   },
   "outputs": [],
   "source": [
    "# Визуализируйте полученные предсказания\n",
    "plt.scatter(X_test, mse_tree_pred, color='r', marker='.')\n",
    "plt.scatter(X_test, y_test, color='b', marker='.');"
   ]
  },
  {
   "cell_type": "markdown",
   "id": "2v9UgOAxR_hj",
   "metadata": {
    "id": "2v9UgOAxR_hj"
   },
   "source": [
    "Измените класс RegressionTree() на RegressionTreeAbs(): замените функцию потерь на MAE и сделайте другие необходимые изменения\n",
    "\n",
    "ваш код здесь"
   ]
  },
  {
   "cell_type": "code",
   "execution_count": null,
   "id": "4203b1e8-ae4a-4277-9d48-e528d53e73d9",
   "metadata": {
    "id": "4203b1e8-ae4a-4277-9d48-e528d53e73d9"
   },
   "outputs": [],
   "source": [
    "# Создайте дерево RegressionTreeAbs() с max_depth=4, обучите его, выполните обрезку, а затем предскажите на тестовой выборке. Выведите RMSE и MAE\n",
    "mae_tree = # ваш код здесь\n",
    "# ваш код здесь\n",
    "mae_tree_pred = # ваш код здесь\n",
    "# ваш код здесь"
   ]
  },
  {
   "cell_type": "code",
   "execution_count": null,
   "id": "57ac9a3c-7dbd-43df-b643-b38f518fb393",
   "metadata": {
    "id": "57ac9a3c-7dbd-43df-b643-b38f518fb393"
   },
   "outputs": [],
   "source": [
    "# Визуализируйте полученные предсказания и сделайте выводы\n",
    "plt.scatter(X_test, mae_tree_pred, color='r', marker='.')\n",
    "plt.scatter(X_test, y_test, color='b', marker='.');"
   ]
  },
  {
   "cell_type": "code",
   "execution_count": null,
   "id": "d189309b-ea09-470e-9744-9b5483e5451a",
   "metadata": {
    "id": "d189309b-ea09-470e-9744-9b5483e5451a"
   },
   "outputs": [],
   "source": [
    "# Теперь изменим наши данные, добавив в них выбросы\n",
    "ind_rng = np.random.RandomState(RANDOM_STATE+5)\n",
    "ind_to_outliers = ind_rng.randint(low=0, high=100, size=10)\n",
    "outliers_noise = ind_rng.randint(low=5, high=10, size=10)\n",
    "\n",
    "x_rng = np.random.RandomState(RANDOM_STATE+6)\n",
    "x = x_rng.poisson(lam=5, size=100).astype('float')\n",
    "x_noise = 2 * x_rng.uniform(0, 1, x.shape[0]) - 1\n",
    "x += x_noise\n",
    "\n",
    "y = 5 * np.sin(x)\n",
    "y_rng = np.random.RandomState(34)\n",
    "y_noise = 2 * y_rng.uniform(0, 1, y.shape[0]) - 1\n",
    "y += y_noise\n",
    "\n",
    "y[ind_to_outliers] += outliers_noise\n",
    "\n",
    "plt.scatter(x, y, marker='.');"
   ]
  },
  {
   "cell_type": "code",
   "execution_count": null,
   "id": "4d423357-61b9-48e6-9814-248b8f3bd2ae",
   "metadata": {
    "id": "4d423357-61b9-48e6-9814-248b8f3bd2ae"
   },
   "outputs": [],
   "source": [
    "data = pd.DataFrame({'x': x, 'y': y})\n",
    "data.head()"
   ]
  },
  {
   "cell_type": "code",
   "execution_count": null,
   "id": "e47c85a2-4a6d-4201-a1e0-79f8dfbef4fb",
   "metadata": {
    "id": "e47c85a2-4a6d-4201-a1e0-79f8dfbef4fb"
   },
   "outputs": [],
   "source": [
    "# Снова разделите данные на тренировочную и тестовую выборки, test_size=0.25\n",
    "X_train, X_test, y_train, y_test = # ваш код здесь"
   ]
  },
  {
   "cell_type": "code",
   "execution_count": null,
   "id": "a59951e1-490c-48fc-a146-fc560035bcc1",
   "metadata": {
    "id": "a59951e1-490c-48fc-a146-fc560035bcc1"
   },
   "outputs": [],
   "source": [
    "# Используйте первоначальное дерево с классом RegressionTree\n",
    "# ваш код здесь"
   ]
  },
  {
   "cell_type": "code",
   "execution_count": null,
   "id": "867c5130-8764-4ea3-a7bf-48dc5b6bcac2",
   "metadata": {
    "id": "867c5130-8764-4ea3-a7bf-48dc5b6bcac2"
   },
   "outputs": [],
   "source": [
    "# Создайте дерево RegressionTree с max_depth=4, обучите его, выполните обрезку, а затем предскажите на тестовой выборке. Выведите RMSE и MAE\n",
    "mse_tree = # ваш код здесь\n",
    "# ваш код здесь\n",
    "mse_tree_pred = # ваш код здесь\n",
    "# ваш код здесь"
   ]
  },
  {
   "cell_type": "code",
   "execution_count": null,
   "id": "193162b7-bfbe-4247-9e78-3c3c59d46ebf",
   "metadata": {
    "id": "193162b7-bfbe-4247-9e78-3c3c59d46ebf"
   },
   "outputs": [],
   "source": [
    "# Визуализируйте полученные предсказания\n",
    "plt.scatter(X_test, mse_tree_pred, color='r', marker='.')\n",
    "plt.scatter(X_test, y_test, color='b', marker='.');"
   ]
  },
  {
   "cell_type": "code",
   "execution_count": null,
   "id": "5ca37199-2ef8-475c-9c3e-39259454ce39",
   "metadata": {
    "id": "5ca37199-2ef8-475c-9c3e-39259454ce39"
   },
   "outputs": [],
   "source": [
    "# Создайте дерево egressionTreeAbs() с max_depth=4, обучите его, выполните обрезку, а затем предскажите на тестовой выборке. Выведите RMSE и MAE\n",
    "mae_tree = # ваш код здесь\n",
    "# ваш код здесь\n",
    "mae_tree_pred = # ваш код здесь\n",
    "# ваш код здесь"
   ]
  },
  {
   "cell_type": "code",
   "execution_count": null,
   "id": "d03ecabc-1a47-4a78-a6b6-7f74f398052c",
   "metadata": {
    "id": "d03ecabc-1a47-4a78-a6b6-7f74f398052c"
   },
   "outputs": [],
   "source": [
    "# Визуализируйте полученные предсказания и сделайте выводы\n",
    "plt.scatter(X_test, mae_tree_pred, color='r', marker='.')\n",
    "plt.scatter(X_test, y_test, color='b', marker='.');"
   ]
  },
  {
   "cell_type": "code",
   "execution_count": null,
   "id": "fdf70946-afc8-415a-98fe-985ccd710453",
   "metadata": {
    "id": "fdf70946-afc8-415a-98fe-985ccd710453"
   },
   "outputs": [],
   "source": [
    "# Ответьте на вопросы в форме"
   ]
  },
  {
   "cell_type": "markdown",
   "id": "a33b7d6c-b1b2-4d8f-9fbf-886ebd5a56c6",
   "metadata": {
    "id": "a33b7d6c-b1b2-4d8f-9fbf-886ebd5a56c6",
    "jp-MarkdownHeadingCollapsed": true
   },
   "source": [
    "### Задание 4\n",
    "\n",
    "В этом задании мы посмотрим на реакцию дерева при выполнении предсказаний на данных, выходящих за пределы, которые были в обучающей выборке. Последовательно выполните все действия, описанные ниже, затем выберите все правильные ответы"
   ]
  },
  {
   "cell_type": "code",
   "execution_count": null,
   "id": "4bf9523f-97a5-4c35-b962-535cd7cf67b8",
   "metadata": {
    "id": "4bf9523f-97a5-4c35-b962-535cd7cf67b8"
   },
   "outputs": [],
   "source": [
    "# Создадим набор данных\n",
    "x = np.linspace(-np.pi, np.pi, num=100)\n",
    "\n",
    "rng = np.random.RandomState(RANDOM_STATE)\n",
    "noise = 2 * rng.uniform(0, 1, x.shape[0]) - 1\n",
    "\n",
    "y = x + np.sin(x)\n",
    "y += noise\n",
    "\n",
    "plt.scatter(x, y);"
   ]
  },
  {
   "cell_type": "code",
   "execution_count": null,
   "id": "b1f78a3d-4881-4f11-8044-bea700a92fca",
   "metadata": {
    "id": "b1f78a3d-4881-4f11-8044-bea700a92fca"
   },
   "outputs": [],
   "source": [
    "# И тестовый набор данных. ВАЖНО! Тестовый набор специально сделан в отличном от тренировочного диапазоне значений\n",
    "x_test = np.linspace(np.pi, 2*np.pi, num=100)\n",
    "\n",
    "y_test = x_test + np.sin(x_test)\n",
    "y_test += noise\n",
    "\n",
    "plt.scatter(x_test, y_test);"
   ]
  },
  {
   "cell_type": "code",
   "execution_count": null,
   "id": "1eb513da-569e-4715-bbee-07b9b27c3ed4",
   "metadata": {
    "id": "1eb513da-569e-4715-bbee-07b9b27c3ed4"
   },
   "outputs": [],
   "source": [
    "data = pd.DataFrame({'x': x, 'y': y})\n",
    "test = pd.DataFrame({'x': x_test, 'y': y_test})"
   ]
  },
  {
   "cell_type": "code",
   "execution_count": null,
   "id": "e1303b8c-ffa1-4d5f-991e-928589125bb8",
   "metadata": {
    "id": "e1303b8c-ffa1-4d5f-991e-928589125bb8"
   },
   "outputs": [],
   "source": [
    "# Создайте дерево глубины 4 и обучите его на тренировочной выборке, затем выполните предсказания на тестовой и посмотрите на метрики\n",
    "# ваш код здесь"
   ]
  },
  {
   "cell_type": "code",
   "execution_count": null,
   "id": "b08ec811-b8b1-4eac-9af5-b87b32ff9978",
   "metadata": {
    "id": "b08ec811-b8b1-4eac-9af5-b87b32ff9978"
   },
   "outputs": [],
   "source": [
    "# Визуализируйте предсказания и сдайте ответ в форме\n",
    "plt.scatter(x_test, y_test, color='b', marker='.')\n",
    "plt.scatter(x_test, tree_pred, color='r', marker='.');"
   ]
  },
  {
   "cell_type": "markdown",
   "id": "1a30e53b-9745-43af-a227-4468813e3149",
   "metadata": {
    "id": "1a30e53b-9745-43af-a227-4468813e3149",
    "jp-MarkdownHeadingCollapsed": true
   },
   "source": [
    "### Задание 5\n",
    "\n",
    "Это задание призвано показать, как можно улучшить качество деревянных моделей, когда тестовая выборка включает в себя значения из другого диапазона, нежели тренировочная. Выполните задания и выберите все правильные ответы"
   ]
  },
  {
   "cell_type": "code",
   "execution_count": null,
   "id": "0eaf490b-fbba-4d23-b97a-61b39a29458a",
   "metadata": {
    "id": "0eaf490b-fbba-4d23-b97a-61b39a29458a"
   },
   "outputs": [],
   "source": [
    "# Считайте файл monthly_data.csv и изучите основную информацию о данных\n",
    "data = # ваш код здесь\n",
    "# Проверьте и приведите тип данных о времени в нужный формат"
   ]
  },
  {
   "cell_type": "code",
   "execution_count": null,
   "id": "0b9616f0-80f5-4f4b-8edb-4db86a941730",
   "metadata": {
    "id": "0b9616f0-80f5-4f4b-8edb-4db86a941730"
   },
   "outputs": [],
   "source": [
    "# Визуализируйте данные\n",
    "plt.plot(data.date, data.sales);"
   ]
  },
  {
   "cell_type": "code",
   "execution_count": null,
   "id": "9a9fe7b8-362b-4380-bb75-6abca895f4fc",
   "metadata": {
    "id": "9a9fe7b8-362b-4380-bb75-6abca895f4fc"
   },
   "outputs": [],
   "source": [
    "def make_harmonic_features(value, period=24):\n",
    "    value *= 2 * np.pi / period\n",
    "    return np.cos(value), np.sin(value)"
   ]
  },
  {
   "cell_type": "code",
   "execution_count": null,
   "id": "1eb74049-f201-4841-9cf6-827ea4038c06",
   "metadata": {
    "id": "1eb74049-f201-4841-9cf6-827ea4038c06"
   },
   "outputs": [],
   "source": [
    "# Перед вами данные о продажах по месяцам. Извлеките из даты год и месяц и добавьте их в качестве признаков.\n",
    "# После этого добавьте в качестве признаков синус и косинус от месяца\n",
    "data['year'] = # ваш код здесь\n",
    "data['month'] = # ваш код здесь\n",
    "\n",
    "data['month_cos'] = # ваш код здесь\n",
    "data['month_sin'] = # ваш код здесь"
   ]
  },
  {
   "cell_type": "code",
   "execution_count": null,
   "id": "cf751852-a2be-4362-b7c7-d88134719023",
   "metadata": {
    "id": "cf751852-a2be-4362-b7c7-d88134719023"
   },
   "outputs": [],
   "source": [
    "# Теперь добавим еще одну колонку - приросты продаж\n",
    "data['sales_growth'] = data['sales'] - data['sales'].shift(1)\n",
    "data = data.loc[1:]"
   ]
  },
  {
   "cell_type": "code",
   "execution_count": null,
   "id": "b6cf5591-a3a1-4480-b8d8-f6a6b6192e80",
   "metadata": {
    "id": "b6cf5591-a3a1-4480-b8d8-f6a6b6192e80"
   },
   "outputs": [],
   "source": [
    "# Обучим дерево, которое будет предсказывать продажи на основе трех признаков: года и синуса, косинуса от месяца\n",
    "cols_to_use = ['year', 'month_cos', 'month_sin']\n",
    "target_col = 'sales'\n",
    "\n",
    "train, test = data.query(\"year < 2017\"), data.query(\"year == 2017\")\n",
    "X_train, X_test = train[cols_to_use], test[cols_to_use]\n",
    "y_train, y_test = train[target_col], test[target_col]"
   ]
  },
  {
   "cell_type": "code",
   "execution_count": null,
   "id": "aede0330-a0e9-4091-96bd-97a1bef930bb",
   "metadata": {
    "id": "aede0330-a0e9-4091-96bd-97a1bef930bb"
   },
   "outputs": [],
   "source": [
    "# Создайте и обучите наше дерево глубины 4. Выведите метрики на тесте\n",
    "tree_sales = # ваш код для инициализации дерева здесь\n",
    "# ваш код для обучения дерева здесь\n",
    "tree_sales_pred = # ваш код для предсказания на тесте здесь\n",
    "# ваш код для вывода метрик здесь"
   ]
  },
  {
   "cell_type": "code",
   "execution_count": null,
   "id": "452a4545-414a-4a65-8531-8a9a6268c170",
   "metadata": {
    "id": "452a4545-414a-4a65-8531-8a9a6268c170"
   },
   "outputs": [],
   "source": [
    "# Визуализируйте полученные результаты\n",
    "plt.plot(train.date, train.sales, color='b', marker='.', label='train')\n",
    "plt.plot(test.date, test.sales, color='lightgreen', marker='.', label='test truth')\n",
    "plt.plot(test.date, tree_sales_pred, color='r', marker='.', label='test prediction')\n",
    "\n",
    "plt.xlabel('date')\n",
    "plt.ylabel('sales')\n",
    "plt.legend();"
   ]
  },
  {
   "cell_type": "code",
   "execution_count": null,
   "id": "9af4a237-26bd-4d22-b22e-15988afe8a26",
   "metadata": {
    "id": "9af4a237-26bd-4d22-b22e-15988afe8a26"
   },
   "outputs": [],
   "source": [
    "# Теперь обучим модель, которая будет предсказывать не сами продажи, а их прирост. Возможно, это улучшит качество\n",
    "cols_to_use = ['year', 'month_cos', 'month_sin']\n",
    "target_col = 'sales_growth'\n",
    "\n",
    "train, test = data.query(\"year < 2017\"), data.query(\"year == 2017\")\n",
    "X_train, X_test = train[cols_to_use], test[cols_to_use]\n",
    "y_train, y_test = train[target_col], test[target_col]"
   ]
  },
  {
   "cell_type": "code",
   "execution_count": null,
   "id": "5cb81d30-4b1b-4285-bbfe-9a9ae4dc219c",
   "metadata": {
    "id": "5cb81d30-4b1b-4285-bbfe-9a9ae4dc219c"
   },
   "outputs": [],
   "source": [
    "# Создайте дерево глубины 4. Обучите его и выполните предсказания\n",
    "tree_growth = # ваш код здесь\n",
    "# ваш код здесь\n",
    "tree_growth_pred = # ваш код здесь"
   ]
  },
  {
   "cell_type": "code",
   "execution_count": null,
   "id": "ea6e923b-361f-4927-9b63-f2d0a27804c3",
   "metadata": {
    "id": "ea6e923b-361f-4927-9b63-f2d0a27804c3"
   },
   "outputs": [],
   "source": [
    "# С помощью полученных предсказаний рассчитайте сами продажи и выведите метрики\n",
    "sales_pred = pd.Series(tree_growth_pred).cumsum() + train['sales'].values[-1]\n",
    "metrics_report(test['sales'], sales_pred)"
   ]
  },
  {
   "cell_type": "code",
   "execution_count": null,
   "id": "825e73b2-725c-4f9b-a89d-6672b8bd9d23",
   "metadata": {
    "id": "825e73b2-725c-4f9b-a89d-6672b8bd9d23"
   },
   "outputs": [],
   "source": [
    "# Визуализируйте полученные результаты и сдайте ответ в форму\n",
    "plt.plot(train.date, train.sales, color='b', marker='.', label='train')\n",
    "plt.plot(test.date, test.sales, color='lightgreen', marker='.', label='test truth')\n",
    "plt.plot(test.date, sales_pred, color='r', marker='.', label='test prediction')\n",
    "\n",
    "plt.xlabel('date')\n",
    "plt.ylabel('sales')\n",
    "plt.legend();"
   ]
  }
 ],
 "metadata": {
  "colab": {
   "provenance": []
  },
  "kernelspec": {
   "display_name": ".venv",
   "language": "python",
   "name": "python3"
  },
  "language_info": {
   "codemirror_mode": {
    "name": "ipython",
    "version": 3
   },
   "file_extension": ".py",
   "mimetype": "text/x-python",
   "name": "python",
   "nbconvert_exporter": "python",
   "pygments_lexer": "ipython3",
   "version": "3.11.9"
  }
 },
 "nbformat": 4,
 "nbformat_minor": 5
}
